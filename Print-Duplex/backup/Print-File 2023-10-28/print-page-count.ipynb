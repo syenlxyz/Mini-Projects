{
 "cells": [
  {
   "cell_type": "code",
   "execution_count": 1,
   "metadata": {},
   "outputs": [],
   "source": [
    "from pathlib import Path\n",
    "from windows_metadata import WindowsAttributes"
   ]
  },
  {
   "cell_type": "code",
   "execution_count": 2,
   "metadata": {},
   "outputs": [
    {
     "name": "stdout",
     "output_type": "stream",
     "text": [
      "4.1.1 Organizational Chart - ERM 2023-01-02.docx: 1\n",
      "4.1.2 Internal Audit Note - ERM 2023-01-02.docx: 2\n",
      "4.1.2 Internal Audit Plan - ERM 2023-01-02.docx: 1\n",
      "4.1.2 Internal Audit Report - ERM 2023-01-02.docx: 2\n",
      "4.1.2 Internal Audit Summary - ERM 2023-01-02.docx: 1\n",
      "4.1.2 Non-Conformance Report (NCR) - ERM 2023-01-02.docx: 1\n",
      "4.1.3 Management Review Meeting Minutes - ERM 2023-01-02.docx: 1\n",
      "4.1.4 Continual Improvement Plan - ERM 2023-01-02.docx: 1\n",
      "4.2.2 Appointment Letter for Consultation and Communication - ERM 2023-01-02.docx: 1\n",
      "4.2.2 List of Stakeholders - ERM 2023-01-02.docx: 1\n",
      "4.2.3 Appointment Letter for Traceability - ERM 2023-01-02.docx: 1\n",
      "4.2.3 Monthly FFB Production - ERM 2022.docx: 1\n",
      "4.2.3 Monthly FFB Production - ERM 2023.docx: 1\n",
      "4.3.1 Appointment Letter for Regulatory Requirements - ERM 2023-01-02.docx: 1\n",
      "4.3.1 Legal Requirement Register - ERM 2023-01-02.docx: 10\n",
      "4.3.1 Legal Requirement Updates and Implementation - ERM 2023-01-02.docx: 2\n",
      "4.3.1 List of Legal Documents - ERM 2023-01-02.docx: 1\n",
      "4.3.1 List of Legal Requirement Compliance - ERM 2023-01-02.docx: 8\n",
      "4.3.2 Free Prior Informed Consent - ERM 2023-01-02.docx: 5\n",
      "4.4.1 Social Impact Assessment Report - ERM 2023-01-02.docx: 1\n",
      "4.4.2 Appointment Letter for Complaints and Grievances - ERM 2023-01-02.docx: 1\n",
      "4.4.2 Complaints and Grievances Procedure - ERM 2023-01-02.docx: 5\n",
      "4.4.3 Corporate Social Responsibility - ERM 2023-08-02.docx: 1\n",
      "4.4.3 Corporate Social Responsibility - ERM 2023-08-07.docx: 1\n",
      "4.4.4 Accident and Emergency Response Plan - ERM 2023-01-02.docx: 8\n",
      "4.4.4 Accident Reporting and Investigation Procedure - ERM 2023-01-02.docx: 8\n",
      "4.4.4 Appointment Letter for Employees Safety and Health - ERM 2023-01-02.docx: 1\n",
      "4.4.4 Checklist for Identification of Excessive Noise - ERM 2023-01-02.docx: 1\n",
      "4.4.4 Chemical Handling and Used Chemicals Procedure - ERM 2023-01-02.docx: 2\n",
      "4.4.4 Covid-19 Prevention Procedure - ERM 2023-01-02.docx: 1\n",
      "4.4.4 Handling Of Chemicals Procedure - ERM 2023-01-02.docx: 7\n",
      "4.4.4 HIRARC Assessment - ERM 2023-01-02.docx: 19\n",
      "4.4.4 HIRARC Table - ERM 2023-06-30.docx: 1\n",
      "4.4.4 Prosedur Panduan HIRARC - ERM 2023-01-02.docx: 16\n",
      "4.4.4 Senarai Pemadam Api - ERM 2023-01-02.docx: 1\n",
      "4.4.5 Social And Human Rights Policy - ERM 2023-01-02.docx: 1\n",
      "4.4.6 Minutes of Training and Briefing - ERM 2023-01-02.docx: 1\n",
      "4.4.6 Training Procedure - ERM 2023-01-02.docx: 4\n",
      "4.4.6 Training Programme - ERM 2023-06-30.docx: 1\n",
      "4.5.1 Appointment Letter for Environmental Management Plan - ERM 2023-01-02.docx: 1\n",
      "4.5.1 Environmental Aspect Impact Assessment (EAIA) - ERM 2023-01-02.docx: 28\n",
      "4.5.1 Plantation Environmental Plan - ERM 2023-01-02.docx: 1\n",
      "4.5.1 Prosedur & Analisis Aspect Impact Alam Sekitar - ERM 2023-01-02.docx: 8\n",
      "4.5.2 Diesel and Lubricant Procedure - ERM 2023-01-02.docx: 1\n",
      "4.5.2 Monthly Diesel Usage - ERM 2022.docx: 1\n",
      "4.5.2 Monthly Diesel Usage - ERM 2023.docx: 1\n",
      "4.5.3 List of Itemized Scheduled Waste and Sources - ERM 2023-01-02.docx: 1\n",
      "4.5.3 Prosedur Pengurusan Bahan Buangan - ERM 2023-01-02.docx: 13\n",
      "4.5.3 Waste Management Plan - ERM 2023-01-02.docx: 1\n",
      "4.5.4 Pollution Prevention Plan - ERM 2023-01-02.docx: 1\n",
      "4.5.5 Water Management Plan - ERM 2023-01-02.docx: 1\n",
      "4.5.6 Biodiversity and Ecosystem Management Plan - ERM 2023-01-02.docx: 5\n",
      "4.5.6 Biodiversity Assessment Report - ERM 2023-01-02.docx: 13\n",
      "4.5.6 HBV Report and Action Plan - ERM 2023-01-02.docx: 1\n",
      "4.5.7 Zero Burning Procedure - ERM 2023-01-02.docx: 1\n",
      "4.6.1 Best Practices - Harvesting - ERM 2023-01-02.docx: 1\n",
      "4.6.1 Best Practices - Immature - ERM 2023-01-02.docx: 1\n",
      "4.6.1 Best Practices - Mature - ERM 2023-01-02.docx: 1\n",
      "4.6.1 Best Practices - Replanting - ERM 2023-01-02.docx: 1\n",
      "4.6.1 Oil Palm Replanting Procedure - ERM 2023-01-02.docx: 4\n",
      "4.6.1 Prosedur Perladangan - ERM 2023-01-02.docx: 16\n",
      "4.6.1 Safety Standard of Operation Procedures - ERM 2023-01-02.docx: 12\n",
      "4.6.1 SOP Menabur Baja - ERM 2023-01-02.docx: 2\n",
      "4.6.1 SOP Menebas - ERM 2023-01-02.docx: 2\n",
      "4.6.1 SOP Menuai Buah Kelapa Sawit - ERM 2023-01-02.docx: 2\n",
      "4.6.1 SOP Pekerjaan Am - ERM 2023-01-02.docx: 2\n",
      "4.6.1 SOP Penyemburan Racun - ERM 2023-01-02.docx: 2\n",
      "4.6.2 Pelan Tanam Semula - ERM 2023-01-02.docx: 1\n",
      "4.6.3 Plantation Piece Rated- ERM 2023-01-02.docx: 1\n"
     ]
    }
   ],
   "source": [
    "folder_path = Path.cwd() / 'MSPO - ERUMAS 2023'\n",
    "file_list = list(folder_path.glob('*.docx'))\n",
    "for file_path in file_list:\n",
    "    attr = WindowsAttributes(file_path)\n",
    "    num_page = attr['Pages']\n",
    "    print(f'{file_path.name}: {num_page}')"
   ]
  },
  {
   "cell_type": "code",
   "execution_count": 3,
   "metadata": {},
   "outputs": [
    {
     "name": "stdout",
     "output_type": "stream",
     "text": [
      "4.1.1 Organizational Chart - TJSB 2023-01-02.docx: 1\n",
      "4.1.2 Internal Audit Checklist - TJSB 2023-01-02.docx: 1\n",
      "4.1.2 Internal Audit Note - TJSB 2023-01-02.docx: 1\n",
      "4.1.2 Internal Audit Plan - TJSB 2023-01-02.docx: 1\n",
      "4.1.2 Internal Audit Report - TJSB 2023-01-02.docx: 2\n",
      "4.1.2 Internal Audit Summary - TJSB 2023-01-02.docx: 1\n",
      "4.1.2 Non-Conformance Report (NCR) - TJSB 2023-01-02.docx: 2\n",
      "4.1.3 Management Review Meeting Minutes - TJSB 2023-01-02.docx: 1\n",
      "4.1.4 Continual Improvement Plan - TJSB 2023-01-02.docx: 1\n",
      "4.2.2 Appointment Letter for Consultation and Communication - TJSB 2023-01-02.docx: 1\n",
      "4.2.2 List of Stakeholders - TJSB 2023-01-02.docx: 1\n",
      "4.2.3 Appointment Letter for Traceability - TJSB 2023-01-02.docx: 1\n",
      "4.2.3 Monthly FFB Production - TJSB 2022.docx: 1\n",
      "4.2.3 Monthly FFB Production - TJSB 2023.docx: 1\n",
      "4.3.1 Appointment Letter for Regulatory Requirements - TJSB 2023-01-02.docx: 1\n",
      "4.3.1 Legal Requirement Register - TJSB 2023-01-02.docx: 10\n",
      "4.3.1 Legal Requirement Updates and Implementation - TJSB 2023-01-02.docx: 2\n",
      "4.3.1 List of Legal Documents - TJSB 2023-01-02.docx: 1\n",
      "4.3.1 List of Legal Requirement Compliance - TJSB 2023-01-02.docx: 8\n",
      "4.3.2 Free Prior Informed Consent - TJSB 2023-01-02.docx: 5\n",
      "4.4.1 Social Impact Assessment Report - TJSB 2023-01-02.docx: 1\n",
      "4.4.2 Appointment Letter for Complaints and Grievances - TJSB 2023-01-02.docx: 1\n",
      "4.4.2 Complaints and Grievances Procedure - TJSB 2023-01-02.docx: 5\n",
      "4.4.3 Corporate Social Responsibility - TJSB 2023-06-30.docx: 1\n",
      "4.4.4 Accident and Emergency Response Plan - TJSB 2023-01-02.docx: 8\n",
      "4.4.4 Accident Reporting and Investigation Procedure - TJSB 2023-01-02.docx: 8\n",
      "4.4.4 Appointment Letter for Employees Safety and Health - TJSB 2023-01-02.docx: 1\n",
      "4.4.4 Chemical Handling and Used Chemicals Procedure - TJSB 2023-01-02.docx: 2\n",
      "4.4.4 Covid-19 Prevention Procedure - TJSB 2023-01-02.docx: 1\n",
      "4.4.4 Handling of Chemicals Procedure - TJSB 2023-01-02.docx: 7\n",
      "4.4.4 HIRARC Assessment - TJSB 2023-01-02.docx: 18\n",
      "4.4.4 Prosedur Panduan HIRARC - TJSB 2023-01-02.docx: 16\n",
      "4.4.4 Senarai Pemadam Api - TJSB 2023-01-02.docx: 1\n",
      "4.4.5 Social And Human Rights Policy - TJSB 2023-01-02.docx: 1\n",
      "4.4.6 Minutes of Training and Briefing - TJSB 2023-01-02.docx: 1\n",
      "4.4.6 Training Procedure - TJSB 2023-01-02.docx: 4\n",
      "4.4.6 Training Programme - TJSB 2023-01-02.docx: 1\n",
      "4.5.1 Plantation Environmental Plan - TJSB 2023-01-02.docx: 1\n",
      "4.5.1 Prosedur & Analisis Aspect Impact Alam Sekitar - TJSB 2023-01-02.docx: 8\n",
      "4.5.2 Monthly Diesel Usage - TJSB 2022.docx: 1\n",
      "4.5.2 Monthly Diesel Usage - TJSB 2023.docx: 1\n",
      "4.5.3 List of Itemized Scheduled Waste and Sources - TJSB 2023-01-02.docx: 1\n",
      "4.5.3 Prosedur Pengurusan Bahan Buangan - TJSB 2023-01-02.docx: 1\n",
      "4.5.3 Waste Management Plan - TJSB 2023-01-02.docx: 1\n",
      "4.5.4 Pollution Prevention Plan - TJSB 2023-01-02.docx: 1\n",
      "4.5.5 Water Management Plan - TJSB 2023-01-02.docx: 1\n",
      "4.5.6 Biodiversity and Ecosystem Management Plan - TJSB 2023-01-02.docx: 5\n",
      "4.5.6 Biodiversity Assessment Report - TJSB 2023-01-02.docx: 13\n",
      "4.5.6 HBV Report and Action Plan - TJSB 2023-01-02.docx: 1\n",
      "4.5.7 Zero Burning Procedure - TJSB 2023-01-02.docx: 1\n",
      "4.6.1 Best Practices - Harvesting - TJSB 2023-01-02.docx: 1\n",
      "4.6.1 Best Practices - Immature - TJSB 2023-01-02.docx: 1\n",
      "4.6.1 Best Practices - Mature - TJSB 2023-01-02.docx: 1\n",
      "4.6.1 Best Practices - Replanting - TJSB 2023-01-02.docx: 1\n",
      "4.6.1 Oil Palm Replanting Procedure - TJSB 2023-01-02.docx: 4\n",
      "4.6.1 Prosedur Perladangan - TJSB 2023-01-02.docx: 16\n",
      "4.6.1 Safety Standard of Operation Procedures - TJSB 2023-01-02.docx: 1\n",
      "4.6.1 SOP Menabur Baja - TJSB 2023-01-02.docx: 2\n",
      "4.6.1 SOP Menebas - TJSB 2023-01-02.docx: 2\n",
      "4.6.1 SOP Menuai Buah Kelapa Sawit - TJSB 2023-01-02.docx: 2\n",
      "4.6.1 SOP Pekerjaan Am - TJSB 2023-01-02.docx: 2\n",
      "4.6.1 SOP Penyemburan Racun - TJSB 2023-01-02.docx: 2\n",
      "4.6.2 Pelan Tanam Semula -TJSB 2023-01-02.docx: 1\n",
      "4.6.3 Plantation Piece Rated - TJSB 2023-01-02.docx: 1\n"
     ]
    }
   ],
   "source": [
    "folder_path = Path.cwd() / 'MSPO - TALU JADI 2023'\n",
    "file_list = list(folder_path.glob('*.docx'))\n",
    "for file_path in file_list:\n",
    "    attr = WindowsAttributes(file_path)\n",
    "    num_page = attr['Pages']\n",
    "    print(f'{file_path.name}: {num_page}')"
   ]
  },
  {
   "cell_type": "code",
   "execution_count": 4,
   "metadata": {},
   "outputs": [
    {
     "name": "stdout",
     "output_type": "stream",
     "text": [
      "4.1.1 Organizational Chart - TJP 2023-01-02.docx: 1\n",
      "4.1.2 Continual Improvement Plan - TJP 2023-01-02.docx: 1\n",
      "4.2.1 Appointment Letter for Traceability - TJP 2023-01-02.docx: 1\n",
      "4.2.1 Monthly FFB Production - TJP 2022.docx: 1\n",
      "4.2.1 Monthly FFB Production - TJP 2023.docx: 1\n",
      "4.3.1 Appointment Letter for Regulatory Requirements - TJP 2023-01-02.docx: 1\n",
      "4.3.1 List of Legal Documents - TJP 2023-01-02.docx: 1\n",
      "4.4.1 Appointment Letter for Complaints and Grievances - TJP 2023-01-02.docx: 1\n",
      "4.4.2 Appointment Letter for Employees Safety and Health - TJP 2023-01-02.docx: 1\n",
      "4.4.2 Chemical Record - TJP 2023-06-30.docx: 1\n",
      "4.4.2 Covid-19 Prevention Procedure - TJP 2023-01-02.docx: 1\n",
      "4.4.2 PPE Issuance Record - TJP 2023-06-30.docx: 1\n",
      "4.4.4 Training Programme - TJP 2023-01-02.docx: 1\n",
      "4.5.1 Appointment Letter for Environmental Management Plan - ERM 2023-01-02.docx: 1\n",
      "4.5.1 Plantation Environmental Plan - TJP 2023-01-02.docx: 1\n",
      "4.5.2 Monthly Diesel Usage - TJP 2022.docx: 1\n",
      "4.5.2 Monthly Diesel Usage - TJP 2023.docx: 1\n",
      "4.5.3 List of Itemized Scheduled Waste and Sources - TJP 2023-01-02.docx: 1\n",
      "4.5.3 Scheduled Waste Disposal - TJP 2023-06-30.docx: 1\n",
      "4.5.3 Waste Management Plan - TJP 2023-01-02.docx: 1\n",
      "4.5.4 Water Management Plan - TJP 2023-01-02.docx: 1\n",
      "4.5.6 Zero Burning Procedure - TJP 2023-01-02.docx: 1\n",
      "4.6.1 Best Practices - Harvesting - TJP 2023-01-02.docx: 1\n",
      "4.6.1 Best Practices - Immature - TJP 2023-01-02.docx: 1\n",
      "4.6.1 Best Practices - Mature - TJP 2023-01-02.docx: 1\n",
      "4.6.1 Best Practices - Replanting - TJP 2023-01-02.docx: 1\n",
      "4.6.2 Pelan Tanam Semula - TJP 2023-01-02.docx: 1\n",
      "4.6.3 Plantation Piece Rated - TJP 2023-01-02.docx: 1\n"
     ]
    }
   ],
   "source": [
    "folder_path = Path.cwd() / 'MSPO - TJPLANT 2023'\n",
    "file_list = list(folder_path.glob('*.docx'))\n",
    "for file_path in file_list:\n",
    "    attr = WindowsAttributes(file_path)\n",
    "    num_page = attr['Pages']\n",
    "    print(f'{file_path.name}: {num_page}')"
   ]
  },
  {
   "cell_type": "code",
   "execution_count": null,
   "metadata": {},
   "outputs": [],
   "source": []
  },
  {
   "cell_type": "code",
   "execution_count": 1,
   "metadata": {},
   "outputs": [],
   "source": [
    "from pathlib import Path"
   ]
  },
  {
   "cell_type": "code",
   "execution_count": 2,
   "metadata": {},
   "outputs": [],
   "source": [
    "folder_path = Path.cwd() / 'MSPO - ERUMAS 2023'\n",
    "file_list = list(folder_path.glob('*.docx'))"
   ]
  },
  {
   "cell_type": "code",
   "execution_count": 3,
   "metadata": {},
   "outputs": [],
   "source": [
    "file_path = file_list[0]"
   ]
  },
  {
   "cell_type": "code",
   "execution_count": 4,
   "metadata": {},
   "outputs": [
    {
     "data": {
      "text/plain": [
       "WindowsPath('c:/Users/SyenLxyz/Downloads/MSPO - ERUMAS 2023/4.1.1 Organizational Chart - ERM 2023-01-02.docx')"
      ]
     },
     "execution_count": 4,
     "metadata": {},
     "output_type": "execute_result"
    }
   ],
   "source": [
    "file_path"
   ]
  },
  {
   "cell_type": "code",
   "execution_count": 5,
   "metadata": {},
   "outputs": [],
   "source": [
    "from win32com.client import Dispatch"
   ]
  },
  {
   "cell_type": "code",
   "execution_count": 26,
   "metadata": {},
   "outputs": [],
   "source": [
    "def print_word(file_path):\n",
    "    app = Dispatch('Word.Application')\n",
    "    app.Visible = False\n",
    "    \n",
    "    doc = app.Documents.Open(str(file_path), ReadOnly=True)\n",
    "    doc.PrintOut()\n",
    "    \n",
    "    doc.Close()\n",
    "    app.Quit()"
   ]
  },
  {
   "cell_type": "code",
   "execution_count": null,
   "metadata": {},
   "outputs": [],
   "source": []
  }
 ],
 "metadata": {
  "kernelspec": {
   "display_name": "base",
   "language": "python",
   "name": "python3"
  },
  "language_info": {
   "codemirror_mode": {
    "name": "ipython",
    "version": 3
   },
   "file_extension": ".py",
   "mimetype": "text/x-python",
   "name": "python",
   "nbconvert_exporter": "python",
   "pygments_lexer": "ipython3",
   "version": "3.9.16"
  }
 },
 "nbformat": 4,
 "nbformat_minor": 2
}
