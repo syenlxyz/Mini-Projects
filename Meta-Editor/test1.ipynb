{
 "cells": [
  {
   "cell_type": "code",
   "execution_count": 1,
   "metadata": {},
   "outputs": [],
   "source": [
    "import exiftool"
   ]
  },
  {
   "cell_type": "code",
   "execution_count": 2,
   "metadata": {},
   "outputs": [],
   "source": [
    "from pathlib import Path"
   ]
  },
  {
   "cell_type": "code",
   "execution_count": 3,
   "metadata": {},
   "outputs": [],
   "source": [
    "input_path = Path.cwd()"
   ]
  },
  {
   "cell_type": "code",
   "execution_count": 4,
   "metadata": {},
   "outputs": [],
   "source": [
    "file_list = list(input_path.glob('*.mp4'))"
   ]
  },
  {
   "cell_type": "code",
   "execution_count": 5,
   "metadata": {},
   "outputs": [],
   "source": [
    "with exiftool.ExifToolHelper() as et:\n",
    "    metadata = et.get_metadata(file_list)"
   ]
  },
  {
   "cell_type": "code",
   "execution_count": 6,
   "metadata": {},
   "outputs": [
    {
     "data": {
      "text/plain": [
       "[{'SourceFile': 'c:/Users/syenl/Desktop/Mini-Projects/Meta-Editor/video (2160p).mp4',\n",
       "  'ExifTool:ExifToolVersion': 12.69,\n",
       "  'File:FileName': 'video (2160p).mp4',\n",
       "  'File:Directory': 'c:/Users/syenl/Desktop/Mini-Projects/Meta-Editor',\n",
       "  'File:FileSize': 40073366,\n",
       "  'File:ZoneIdentifier': 'Exists',\n",
       "  'File:FileModifyDate': '2023:11:15 11:59:36+08:00',\n",
       "  'File:FileAccessDate': '2023:11:15 12:01:06+08:00',\n",
       "  'File:FileCreateDate': '2023:11:15 09:52:17+08:00',\n",
       "  'File:FilePermissions': 100666,\n",
       "  'File:FileType': 'MP4',\n",
       "  'File:FileTypeExtension': 'MP4',\n",
       "  'File:MIMEType': 'video/mp4',\n",
       "  'QuickTime:MajorBrand': 'mp42',\n",
       "  'QuickTime:MinorVersion': '0.0.0',\n",
       "  'QuickTime:CompatibleBrands': ['mp42', 'mp41', 'isom', 'avc1'],\n",
       "  'QuickTime:MovieHeaderVersion': 0,\n",
       "  'QuickTime:CreateDate': '2019:11:11 10:17:29',\n",
       "  'QuickTime:ModifyDate': '2019:11:11 10:17:29',\n",
       "  'QuickTime:TimeScale': 25,\n",
       "  'QuickTime:Duration': 13.8,\n",
       "  'QuickTime:PreferredRate': 1,\n",
       "  'QuickTime:PreferredVolume': 1,\n",
       "  'QuickTime:PreviewTime': 0,\n",
       "  'QuickTime:PreviewDuration': 0,\n",
       "  'QuickTime:PosterTime': 0,\n",
       "  'QuickTime:SelectionTime': 0,\n",
       "  'QuickTime:SelectionDuration': 0,\n",
       "  'QuickTime:CurrentTime': 0,\n",
       "  'QuickTime:NextTrackID': 2,\n",
       "  'QuickTime:TrackHeaderVersion': 0,\n",
       "  'QuickTime:TrackCreateDate': '2019:11:11 10:17:29',\n",
       "  'QuickTime:TrackModifyDate': '2019:11:11 10:17:29',\n",
       "  'QuickTime:TrackID': 1,\n",
       "  'QuickTime:TrackDuration': 13.8,\n",
       "  'QuickTime:TrackLayer': 0,\n",
       "  'QuickTime:TrackVolume': 0,\n",
       "  'QuickTime:MatrixStructure': '1 0 0 0 1 0 0 0 1',\n",
       "  'QuickTime:ImageWidth': 3840,\n",
       "  'QuickTime:ImageHeight': 2160,\n",
       "  'QuickTime:MediaHeaderVersion': 0,\n",
       "  'QuickTime:MediaCreateDate': '2019:11:11 10:17:29',\n",
       "  'QuickTime:MediaModifyDate': '2019:11:11 10:17:29',\n",
       "  'QuickTime:MediaTimeScale': 25,\n",
       "  'QuickTime:MediaDuration': 13.8,\n",
       "  'QuickTime:MediaLanguageCode': 'und',\n",
       "  'QuickTime:HandlerDescription': 'L-SMASH Video Handler',\n",
       "  'QuickTime:GraphicsMode': 0,\n",
       "  'QuickTime:OpColor': '0 0 0',\n",
       "  'QuickTime:CompressorID': 'avc1',\n",
       "  'QuickTime:SourceImageWidth': 3840,\n",
       "  'QuickTime:SourceImageHeight': 2160,\n",
       "  'QuickTime:XResolution': 72,\n",
       "  'QuickTime:YResolution': 72,\n",
       "  'QuickTime:CompressorName': 'AVC Coding',\n",
       "  'QuickTime:BitDepth': 0,\n",
       "  'QuickTime:ColorProfiles': 'nclx',\n",
       "  'QuickTime:ColorPrimaries': 1,\n",
       "  'QuickTime:TransferCharacteristics': 1,\n",
       "  'QuickTime:MatrixCoefficients': 1,\n",
       "  'QuickTime:VideoFullRangeFlag': 0,\n",
       "  'QuickTime:VideoFrameRate': 25,\n",
       "  'QuickTime:HandlerType': 'mdir',\n",
       "  'QuickTime:Title': 'Sample Video',\n",
       "  'QuickTime:MediaDataSize': 40027372,\n",
       "  'QuickTime:MediaDataOffset': 45994,\n",
       "  'Composite:ImageSize': '3840 2160',\n",
       "  'Composite:Megapixels': 8.2944,\n",
       "  'Composite:AvgBitrate': 23204274,\n",
       "  'Composite:Rotation': 0}]"
      ]
     },
     "execution_count": 6,
     "metadata": {},
     "output_type": "execute_result"
    }
   ],
   "source": [
    "metadata"
   ]
  },
  {
   "cell_type": "code",
   "execution_count": null,
   "metadata": {},
   "outputs": [],
   "source": []
  }
 ],
 "metadata": {
  "kernelspec": {
   "display_name": "base",
   "language": "python",
   "name": "python3"
  },
  "language_info": {
   "codemirror_mode": {
    "name": "ipython",
    "version": 3
   },
   "file_extension": ".py",
   "mimetype": "text/x-python",
   "name": "python",
   "nbconvert_exporter": "python",
   "pygments_lexer": "ipython3",
   "version": "3.10.9"
  }
 },
 "nbformat": 4,
 "nbformat_minor": 2
}
