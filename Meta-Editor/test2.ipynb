{
 "cells": [
  {
   "cell_type": "code",
   "execution_count": 1,
   "metadata": {},
   "outputs": [],
   "source": [
    "from windows_metadata import WindowsAttributes"
   ]
  },
  {
   "cell_type": "code",
   "execution_count": 2,
   "metadata": {},
   "outputs": [],
   "source": [
    "from pathlib import Path"
   ]
  },
  {
   "cell_type": "code",
   "execution_count": 3,
   "metadata": {},
   "outputs": [],
   "source": [
    "input_path = Path.cwd()"
   ]
  },
  {
   "cell_type": "code",
   "execution_count": 4,
   "metadata": {},
   "outputs": [],
   "source": [
    "file_list = list(input_path.glob('*.mp4'))"
   ]
  },
  {
   "cell_type": "code",
   "execution_count": 5,
   "metadata": {},
   "outputs": [
    {
     "name": "stdout",
     "output_type": "stream",
     "text": [
      "<windows_metadata.windows_metadata.WindowsAttributes object at 0x000001ECF3CD2980>\n"
     ]
    }
   ],
   "source": [
    "for file_path in file_list:\n",
    "    attr = WindowsAttributes(file_path)\n",
    "    \n",
    "    print(attr)"
   ]
  },
  {
   "cell_type": "code",
   "execution_count": 6,
   "metadata": {},
   "outputs": [
    {
     "data": {
      "text/plain": [
       "{'': 'Available',\n",
       " 'Name': 'video (2160p).mp4',\n",
       " 'Size': '38.2 MB',\n",
       " 'Item type': 'MP4 File',\n",
       " 'Date modified': '15/11/2023 11:59 AM',\n",
       " 'Date created': '15/11/2023 9:52 AM',\n",
       " 'Date accessed': '15/11/2023 11:59 AM',\n",
       " 'Attributes': 'A',\n",
       " 'Perceived type': 'Video',\n",
       " 'Owner': 'SYEN-LENOVO-THI\\\\syenl',\n",
       " 'Kind': 'Video',\n",
       " 'Rating': 'Unrated',\n",
       " 'Title': 'Sample Video',\n",
       " 'Length': '00:00:13',\n",
       " 'Protected': 'No',\n",
       " 'Total size': '952 GB',\n",
       " 'Computer': 'SYEN-LENOVO-THI (this PC)',\n",
       " 'File extension': '.mp4',\n",
       " 'Filename': 'video (2160p).mp4',\n",
       " 'Space free': '626 GB',\n",
       " 'Shared': 'No',\n",
       " 'Folder name': 'Meta-Editor',\n",
       " 'File location': 'C:\\\\Users\\\\syenl\\\\Desktop\\\\Mini-Projects\\\\Meta-Editor',\n",
       " 'Folder': 'Meta-Editor (C:\\\\Users\\\\syenl\\\\Desktop\\\\Mini-Projects)',\n",
       " 'Path': 'C:\\\\Users\\\\syenl\\\\Desktop\\\\Mini-Projects\\\\Meta-Editor\\\\video (2160p).mp4',\n",
       " 'Type': 'MP4 File',\n",
       " 'Link status': 'Unresolved',\n",
       " 'Media created': '\\u200e11/\\u200e11/\\u200e2019 \\u200f\\u200e6:17 PM',\n",
       " 'Space used': '\\u200e34%',\n",
       " 'Sharing status': 'Private',\n",
       " 'Video compression': '{34363248-0000-0010-8000-00AA00389B71}',\n",
       " 'Data rate': '\\u200e22872kbps',\n",
       " 'Frame height': '2160',\n",
       " 'Frame rate': '\\u200e25.00 frames/second',\n",
       " 'Frame width': '3840',\n",
       " 'Spherical': 'No',\n",
       " 'Stereo': 'No',\n",
       " 'Video orientation': '0',\n",
       " 'Total bitrate': '\\u200e22872kbps'}"
      ]
     },
     "execution_count": 6,
     "metadata": {},
     "output_type": "execute_result"
    }
   ],
   "source": [
    "attr.get_attribute_dict()"
   ]
  },
  {
   "cell_type": "code",
   "execution_count": null,
   "metadata": {},
   "outputs": [],
   "source": []
  }
 ],
 "metadata": {
  "kernelspec": {
   "display_name": "base",
   "language": "python",
   "name": "python3"
  },
  "language_info": {
   "codemirror_mode": {
    "name": "ipython",
    "version": 3
   },
   "file_extension": ".py",
   "mimetype": "text/x-python",
   "name": "python",
   "nbconvert_exporter": "python",
   "pygments_lexer": "ipython3",
   "version": "3.10.9"
  }
 },
 "nbformat": 4,
 "nbformat_minor": 2
}
