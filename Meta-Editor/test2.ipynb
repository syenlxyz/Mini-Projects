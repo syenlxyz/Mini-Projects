{
 "cells": [
  {
   "cell_type": "code",
   "execution_count": 2,
   "metadata": {},
   "outputs": [],
   "source": [
    "from windows_metadata import WindowsAttributes"
   ]
  },
  {
   "cell_type": "code",
   "execution_count": 3,
   "metadata": {},
   "outputs": [],
   "source": [
    "from pathlib import Path"
   ]
  },
  {
   "cell_type": "code",
   "execution_count": 4,
   "metadata": {},
   "outputs": [],
   "source": [
    "input_path = Path.cwd()"
   ]
  },
  {
   "cell_type": "code",
   "execution_count": 5,
   "metadata": {},
   "outputs": [],
   "source": [
    "file_list = list(input_path.glob('*.mp4'))"
   ]
  },
  {
   "cell_type": "code",
   "execution_count": 6,
   "metadata": {},
   "outputs": [
    {
     "name": "stdout",
     "output_type": "stream",
     "text": [
      "<windows_metadata.windows_metadata.WindowsAttributes object at 0x0000017C6011E550>\n",
      "<windows_metadata.windows_metadata.WindowsAttributes object at 0x0000017C6011EEB0>\n"
     ]
    }
   ],
   "source": [
    "for file_path in file_list:\n",
    "    attr = WindowsAttributes(file_path)\n",
    "    \n",
    "    print(attr)"
   ]
  },
  {
   "cell_type": "code",
   "execution_count": 9,
   "metadata": {},
   "outputs": [
    {
     "data": {
      "text/plain": [
       "{'': 'Available',\n",
       " 'Name': '[Comicat&KissSub][Beast Tamer][02v2][1080P][GB][MP4].mp4',\n",
       " 'Size': '404 MB',\n",
       " 'Item type': 'MP4 File',\n",
       " 'Date modified': '08/11/2023 5:35 PM',\n",
       " 'Date created': '13/11/2023 10:27 PM',\n",
       " 'Date accessed': '13/11/2023 10:27 PM',\n",
       " 'Attributes': 'A',\n",
       " 'Perceived type': 'Video',\n",
       " 'Owner': 'SYEN-ASUS-ROG\\\\SyenLxyz',\n",
       " 'Kind': 'Video',\n",
       " 'Rating': 'Unrated',\n",
       " 'Length': '00:23:40',\n",
       " 'Bit rate': '\\u200e128kbps',\n",
       " 'Protected': 'No',\n",
       " 'Total size': '237 GB',\n",
       " 'Computer': 'SYEN-ASUS-ROG (this PC)',\n",
       " 'File extension': '.mp4',\n",
       " 'Filename': '[Comicat&KissSub][Beast Tamer][02v2][1080P][GB][MP4].mp4',\n",
       " 'Space free': '39.7 GB',\n",
       " 'Shared': 'No',\n",
       " 'Folder name': 'Downloads',\n",
       " 'Folder path': 'C:\\\\Users\\\\SyenLxyz\\\\Downloads',\n",
       " 'Folder': 'Downloads (C:\\\\Users\\\\SyenLxyz)',\n",
       " 'Path': 'C:\\\\Users\\\\SyenLxyz\\\\Downloads\\\\[Comicat&KissSub][Beast Tamer][02v2][1080P][GB][MP4].mp4',\n",
       " 'Type': 'MP4 File',\n",
       " 'Link status': 'Unresolved',\n",
       " 'Space used': '\\u200e83%',\n",
       " 'Sharing status': 'Private',\n",
       " 'Video compression': '{34363248-0000-0010-8000-00AA00389B71}',\n",
       " 'Data rate': '\\u200e2257kbps',\n",
       " 'Frame height': '1080',\n",
       " 'Frame rate': '\\u200e23.98 frames/second',\n",
       " 'Frame width': '1920',\n",
       " 'Spherical': 'No',\n",
       " 'Stereo': 'No',\n",
       " 'Video orientation': '0',\n",
       " 'Total bitrate': '\\u200e2385kbps'}"
      ]
     },
     "execution_count": 9,
     "metadata": {},
     "output_type": "execute_result"
    }
   ],
   "source": [
    "attr.get_attribute_dict()"
   ]
  },
  {
   "cell_type": "code",
   "execution_count": null,
   "metadata": {},
   "outputs": [],
   "source": []
  }
 ],
 "metadata": {
  "kernelspec": {
   "display_name": "base",
   "language": "python",
   "name": "python3"
  },
  "language_info": {
   "codemirror_mode": {
    "name": "ipython",
    "version": 3
   },
   "file_extension": ".py",
   "mimetype": "text/x-python",
   "name": "python",
   "nbconvert_exporter": "python",
   "pygments_lexer": "ipython3",
   "version": "3.9.16"
  }
 },
 "nbformat": 4,
 "nbformat_minor": 2
}
