{
 "cells": [
  {
   "cell_type": "code",
   "execution_count": null,
   "metadata": {},
   "outputs": [],
   "source": [
    "from pathlib import Path\n",
    "from win32com.client import Dispatch"
   ]
  },
  {
   "cell_type": "code",
   "execution_count": null,
   "metadata": {},
   "outputs": [],
   "source": [
    "input_path = Path.cwd() / 'input'"
   ]
  },
  {
   "cell_type": "code",
   "execution_count": null,
   "metadata": {},
   "outputs": [],
   "source": [
    "file_list = list(input_path.glob('*.doc'))"
   ]
  },
  {
   "cell_type": "code",
   "execution_count": null,
   "metadata": {},
   "outputs": [],
   "source": [
    "file_path = file_list[0]\n",
    "file_path"
   ]
  },
  {
   "cell_type": "code",
   "execution_count": null,
   "metadata": {},
   "outputs": [],
   "source": [
    "# https://learn.microsoft.com/en-us/office/vba/api/word.application\n",
    "wrd = Dispatch('Word.Application')"
   ]
  },
  {
   "cell_type": "code",
   "execution_count": null,
   "metadata": {},
   "outputs": [],
   "source": [
    "wrd.Visible = True # False"
   ]
  },
  {
   "cell_type": "code",
   "execution_count": null,
   "metadata": {},
   "outputs": [],
   "source": [
    "# https://learn.microsoft.com/en-us/office/vba/api/word.documents.open\n",
    "doc = wrd.Documents.Open(file_path.as_posix(), ReadOnly=True)"
   ]
  },
  {
   "cell_type": "code",
   "execution_count": null,
   "metadata": {},
   "outputs": [],
   "source": [
    "# https://learn.microsoft.com/en-us/office/vba/api/word.wdstatistic\n",
    "'''\n",
    "Name\t                        Value\tDescription\n",
    "wdStatisticCharacters\t        3\t    Count of characters.\n",
    "wdStatisticCharactersWithSpaces\t5\t    Count of characters including spaces.\n",
    "wdStatisticFarEastCharacters\t6\t    Count of characters for Asian languages.\n",
    "wdStatisticLines\t            1\t    Count of lines.\n",
    "wdStatisticPages\t            2\t    Count of pages.\n",
    "wdStatisticParagraphs\t        4\t    Count of paragraphs.\n",
    "wdStatisticWords\t            0\t    Count of words.\n",
    "'''\n",
    "WdStatistic = {\n",
    "    'Characters': 3,\n",
    "    'CharactersWithSpaces': 5,\n",
    "    'FarEastCharacters': 6,\n",
    "    'Lines': 1,\n",
    "    'Pages': 2,\n",
    "    'Paragraphs': 4,\n",
    "    'Words': 0\n",
    "}"
   ]
  },
  {
   "cell_type": "code",
   "execution_count": null,
   "metadata": {},
   "outputs": [],
   "source": [
    "# https://learn.microsoft.com/en-us/office/vba/api/word.document.computestatistics\n",
    "doc.ComputeStatistics(Statistic=WdStatistic['Pages'])"
   ]
  },
  {
   "cell_type": "code",
   "execution_count": null,
   "metadata": {},
   "outputs": [],
   "source": [
    "'''\n",
    "Background\n",
    "Range\n",
    "From\n",
    "To\n",
    "Item\n",
    "Copies\n",
    "Pages\n",
    "PageType\n",
    "Collate\n",
    "FileName\n",
    "'''"
   ]
  },
  {
   "cell_type": "code",
   "execution_count": null,
   "metadata": {},
   "outputs": [],
   "source": [
    "# Range\n",
    "# https://learn.microsoft.com/en-us/office/vba/api/word.wdprintoutrange\n",
    "'''\n",
    "Name\t            Value\tDescription\n",
    "wdPrintAllDocument\t0\t    The entire document.\n",
    "wdPrintCurrentPage\t2\t    The current page.\n",
    "wdPrintFromTo\t    3\t    A specified range.\n",
    "wdPrintRangeOfPages\t4\t    A specified range of pages.\n",
    "wdPrintSelection\t1\t    The current selection.\n",
    "'''\n",
    "WdPrintOutRange = {\n",
    "    'AllDocument': 0,\n",
    "    'CurrentPage': 2,\n",
    "    'FromTo': 3,\n",
    "    'RangeOfPages': 4,\n",
    "    'Selection': 1\n",
    "}"
   ]
  },
  {
   "cell_type": "code",
   "execution_count": null,
   "metadata": {},
   "outputs": [],
   "source": [
    "# Item\n",
    "# https://learn.microsoft.com/en-us/office/vba/api/word.wdprintoutitem\n",
    "'''\n",
    "Name\t                    Value\tDescription\n",
    "wdPrintAutoTextEntries\t    4\t    Autotext entries in the current document.\n",
    "wdPrintComments\t            2\t    Comments in the current document.\n",
    "wdPrintDocumentContent\t    0\t    Current document content.\n",
    "wdPrintDocumentWithMarkup\t7\t    Current document content including markup.\n",
    "wdPrintEnvelope\t            6\t    An envelope.\n",
    "wdPrintKeyAssignments\t    5\t    Key assignments in the current document.\n",
    "wdPrintMarkup\t            2\t    Markup in the current document.\n",
    "wdPrintProperties\t        1\t    Properties in the current document.\n",
    "wdPrintStyles\t            3\t    Styles in the current document.\n",
    "'''\n",
    "WdPrintOutItem = {\n",
    "    'AutoTextEntries': 4,\n",
    "    'Comments': 2,\n",
    "    'DocumentContent': 0,\n",
    "    'DocumentWithMarkup': 7,\n",
    "    'Envelope': 6,\n",
    "    'KeyAssignments': 5,\n",
    "    'Markup': 2,\n",
    "    'Properties': 1,\n",
    "    'Styles': 3\n",
    "}"
   ]
  },
  {
   "cell_type": "code",
   "execution_count": null,
   "metadata": {},
   "outputs": [],
   "source": [
    "# PageType\n",
    "# https://learn.microsoft.com/en-us/office/vba/api/word.wdprintoutpages\n",
    "'''\n",
    "Name\t                Value\tDescription\n",
    "wdPrintAllPages\t        0\t    All pages.\n",
    "wdPrintEvenPagesOnly\t2\t    Even-numbered pages only.\n",
    "wdPrintOddPagesOnly\t    1\t    Odd-numbered pages only.\n",
    "'''\n",
    "WdPrintOutPages = {\n",
    "    'AllPages': 0,\n",
    "    'EvenPagesOnly': 2,\n",
    "    'OddPagesOnly': 1\n",
    "}"
   ]
  },
  {
   "cell_type": "code",
   "execution_count": null,
   "metadata": {},
   "outputs": [],
   "source": [
    "params = {\n",
    "    'Range': WdPrintOutRange['AllDocument'],\n",
    "    'Background': False,\n",
    "    'Copies': 1,\n",
    "    'Collate': True\n",
    "}"
   ]
  },
  {
   "cell_type": "code",
   "execution_count": null,
   "metadata": {},
   "outputs": [],
   "source": [
    "# https://learn.microsoft.com/en-us/office/vba/api/word.document.printout\n",
    "wrd.PrintOut(**params)"
   ]
  },
  {
   "cell_type": "code",
   "execution_count": null,
   "metadata": {},
   "outputs": [],
   "source": [
    "# https://learn.microsoft.com/en-us/office/vba/api/word.application.quit(method)\n",
    "wrd.Quit(SaveChanges=False)"
   ]
  },
  {
   "cell_type": "code",
   "execution_count": null,
   "metadata": {},
   "outputs": [],
   "source": [
    "'''\n",
    "ManualDuplexPrint\n",
    "PageType\n",
    "PrintOddPagesInAscendingOrder\n",
    "PrintEvenPagesInAscendingOrder\n",
    "'''"
   ]
  },
  {
   "cell_type": "code",
   "execution_count": null,
   "metadata": {},
   "outputs": [],
   "source": [
    "# Options\n",
    "# https://learn.microsoft.com/en-us/office/vba/api/word.options\n",
    "# https://learn.microsoft.com/en-us/office/vba/api/word.options.printoddpagesinascendingorder\n",
    "# https://learn.microsoft.com/en-us/office/vba/api/word.options.printevenpagesinascendingorder\n",
    "# https://learn.microsoft.com/en-us/office/vba/api/word.options.printreverse\n",
    "'''\n",
    "wrd.Options.PrintEvenPagesInAscendingOrder\n",
    "wrd.Options.PrintOddPagesInAscendingOrder\n",
    "wrd.Options.PrintReverse\n",
    "'''"
   ]
  },
  {
   "cell_type": "code",
   "execution_count": null,
   "metadata": {},
   "outputs": [],
   "source": [
    "'''\n",
    "PrintToFile\n",
    "OutputFileName\n",
    "Append\n",
    "'''"
   ]
  },
  {
   "cell_type": "code",
   "execution_count": null,
   "metadata": {},
   "outputs": [],
   "source": [
    "# https://learn.microsoft.com/en-us/office/vba/api/word.selection.goto\n",
    "# https://learn.microsoft.com/en-us/office/vba/api/word.selection.insertnewpage"
   ]
  },
  {
   "cell_type": "code",
   "execution_count": null,
   "metadata": {},
   "outputs": [],
   "source": [
    "# https://learn.microsoft.com/en-us/office/vba/api/word.wdgotoitem\n",
    "'''\n",
    "Name\t                Value\tDescription\n",
    "wdGoToBookmark\t        -1\t    A bookmark.\n",
    "wdGoToComment\t        6\t    A comment.\n",
    "wdGoToEndnote\t        5\t    An endnote.\n",
    "wdGoToEquation\t        10\t    An equation.\n",
    "wdGoToField\t            7\t    A field.\n",
    "wdGoToFootnote\t        4\t    A footnote.\n",
    "wdGoToGrammaticalError\t14\t    A grammatical error.\n",
    "wdGoToGraphic\t        8\t    A graphic.\n",
    "wdGoToHeading\t        11\t    A heading.\n",
    "wdGoToLine\t            3\t    A line.\n",
    "wdGoToObject\t        9\t    An object.\n",
    "wdGoToPage\t            1\t    A page.\n",
    "wdGoToPercent\t        12\t    A percent.\n",
    "wdGoToProofreadingError\t15\t    A proofreading error.\n",
    "wdGoToSection\t        0\t    A section.\n",
    "wdGoToSpellingError\t    13\t    A spelling error.\n",
    "wdGoToTable\t            2\t    A table.\n",
    "'''\n",
    "WdGoToItem = {\n",
    "    'Bookmark': -1,\n",
    "    'Comment': 6,\n",
    "    'Endnote': 5,\n",
    "    'Equation': 10,\n",
    "    'Field': 7,\n",
    "    'Footnote': 4,\n",
    "    'GrammaticalError': 14,\n",
    "    'Graphic': 8,\n",
    "    'Heading': 11,\n",
    "    'Line': 3,\n",
    "    'Object': 9,\n",
    "    'Page': 1,\n",
    "    'Percent': 12,\n",
    "    'ProofreadingError': 15,\n",
    "    'Section': 0,\n",
    "    'SpellingError': 13,\n",
    "    'Table': 2\n",
    "}"
   ]
  },
  {
   "cell_type": "code",
   "execution_count": null,
   "metadata": {},
   "outputs": [],
   "source": [
    "# https://learn.microsoft.com/en-us/office/vba/api/word.wdgotodirection\n",
    "'''\n",
    "Name\t        Value\tDescription\n",
    "wdGoToAbsolute\t1\t    An absolute position.\n",
    "wdGoToFirst\t    1\t    The first instance of the specified object.\n",
    "wdGoToLast\t    -1\t    The last instance of the specified object.\n",
    "wdGoToNext\t    2\t    The next instance of the specified object.\n",
    "wdGoToPrevious\t3\t    The previous instance of the specified object.\n",
    "wdGoToRelative\t2\t    A position relative to the current position.\n",
    "'''\n",
    "WdGoToDirection   = {\n",
    "    'Absolute': 1,\n",
    "    'First': 1,\n",
    "    'Last': -1,\n",
    "    'Next': 2,\n",
    "    'Previous': 3,\n",
    "    'Relative': 2\n",
    "}"
   ]
  },
  {
   "cell_type": "code",
   "execution_count": null,
   "metadata": {},
   "outputs": [],
   "source": []
  }
 ],
 "metadata": {
  "kernelspec": {
   "display_name": "base",
   "language": "python",
   "name": "python3"
  },
  "language_info": {
   "codemirror_mode": {
    "name": "ipython",
    "version": 3
   },
   "file_extension": ".py",
   "mimetype": "text/x-python",
   "name": "python",
   "nbconvert_exporter": "python",
   "pygments_lexer": "ipython3",
   "version": "3.9.16"
  }
 },
 "nbformat": 4,
 "nbformat_minor": 2
}
