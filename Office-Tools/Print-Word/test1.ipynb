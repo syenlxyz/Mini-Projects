{
 "cells": [
  {
   "cell_type": "code",
   "execution_count": 29,
   "metadata": {},
   "outputs": [],
   "source": [
    "from pathlib import Path\n",
    "from win32com.client import Dispatch"
   ]
  },
  {
   "cell_type": "code",
   "execution_count": 30,
   "metadata": {},
   "outputs": [],
   "source": [
    "input_path = Path.cwd() / 'input'"
   ]
  },
  {
   "cell_type": "code",
   "execution_count": 31,
   "metadata": {},
   "outputs": [],
   "source": [
    "file_list = list(input_path.glob('*.doc'))"
   ]
  },
  {
   "cell_type": "code",
   "execution_count": 32,
   "metadata": {},
   "outputs": [
    {
     "data": {
      "text/plain": [
       "WindowsPath('c:/Users/SyenLxyz/Desktop/Mini-Projects/Office-Tools/Print-Word/input/SampleDOCFile_100kb.doc')"
      ]
     },
     "execution_count": 32,
     "metadata": {},
     "output_type": "execute_result"
    }
   ],
   "source": [
    "file_path = file_list[0]\n",
    "file_path"
   ]
  },
  {
   "cell_type": "code",
   "execution_count": 33,
   "metadata": {},
   "outputs": [],
   "source": [
    "# https://learn.microsoft.com/en-us/office/vba/api/word.application\n",
    "wrd = Dispatch('Word.Application')"
   ]
  },
  {
   "cell_type": "code",
   "execution_count": 34,
   "metadata": {},
   "outputs": [],
   "source": [
    "wrd.Visible = True # False"
   ]
  },
  {
   "cell_type": "code",
   "execution_count": 35,
   "metadata": {},
   "outputs": [
    {
     "data": {
      "text/plain": [
       "<COMObject Open>"
      ]
     },
     "execution_count": 35,
     "metadata": {},
     "output_type": "execute_result"
    }
   ],
   "source": [
    "# https://learn.microsoft.com/en-us/office/vba/api/word.documents.open\n",
    "wrd.Documents.Open(file_path.as_posix(), ReadOnly=True)"
   ]
  },
  {
   "cell_type": "code",
   "execution_count": 36,
   "metadata": {},
   "outputs": [],
   "source": [
    "# https://learn.microsoft.com/en-us/office/vba/api/word.document.printout"
   ]
  },
  {
   "cell_type": "code",
   "execution_count": null,
   "metadata": {},
   "outputs": [],
   "source": [
    "wrd.PrintOut()"
   ]
  },
  {
   "cell_type": "code",
   "execution_count": null,
   "metadata": {},
   "outputs": [],
   "source": [
    "Background=False,\n",
    "Range='wdPrintAllDocument',\n",
    "Copies=1,\n",
    "PageType='wdPrintAllPages',\n",
    "Collate=True,\n",
    "FileName=file_path.as_posix()"
   ]
  },
  {
   "cell_type": "code",
   "execution_count": null,
   "metadata": {},
   "outputs": [],
   "source": []
  },
  {
   "cell_type": "code",
   "execution_count": 37,
   "metadata": {},
   "outputs": [],
   "source": [
    "wrd.Quit()"
   ]
  },
  {
   "cell_type": "code",
   "execution_count": null,
   "metadata": {},
   "outputs": [],
   "source": [
    "'''\n",
    "Background\n",
    "Range\n",
    "From\n",
    "To\n",
    "Item\n",
    "Copies\n",
    "Pages\n",
    "PageType\n",
    "Collate\n",
    "FileName\n",
    "'''"
   ]
  },
  {
   "cell_type": "code",
   "execution_count": 11,
   "metadata": {},
   "outputs": [
    {
     "data": {
      "text/plain": [
       "'\\nName\\t            Value\\tDescription\\nwdPrintAllDocument\\t0\\t    The entire document.\\nwdPrintCurrentPage\\t2\\t    The current page.\\nwdPrintFromTo\\t    3\\t    A specified range.\\nwdPrintRangeOfPages\\t4\\t    A specified range of pages.\\nwdPrintSelection\\t1\\t    The current selection.\\n'"
      ]
     },
     "execution_count": 11,
     "metadata": {},
     "output_type": "execute_result"
    }
   ],
   "source": [
    "# Range\n",
    "# https://learn.microsoft.com/en-us/office/vba/api/word.wdprintoutrange\n",
    "'''\n",
    "Name\t            Value\tDescription\n",
    "wdPrintAllDocument\t0\t    The entire document.\n",
    "wdPrintCurrentPage\t2\t    The current page.\n",
    "wdPrintFromTo\t    3\t    A specified range.\n",
    "wdPrintRangeOfPages\t4\t    A specified range of pages.\n",
    "wdPrintSelection\t1\t    The current selection.\n",
    "'''"
   ]
  },
  {
   "cell_type": "code",
   "execution_count": 12,
   "metadata": {},
   "outputs": [
    {
     "data": {
      "text/plain": [
       "'\\nName\\t                    Value\\tDescription\\nwdPrintAutoTextEntries\\t    4\\t    Autotext entries in the current document.\\nwdPrintComments\\t            2\\t    Comments in the current document.\\nwdPrintDocumentContent\\t    0\\t    Current document content.\\nwdPrintDocumentWithMarkup\\t7\\t    Current document content including markup.\\nwdPrintEnvelope\\t            6\\t    An envelope.\\nwdPrintKeyAssignments\\t    5\\t    Key assignments in the current document.\\nwdPrintMarkup\\t            2\\t    Markup in the current document.\\nwdPrintProperties\\t        1\\t    Properties in the current document.\\nwdPrintStyles\\t            3\\t    Styles in the current document.\\n'"
      ]
     },
     "execution_count": 12,
     "metadata": {},
     "output_type": "execute_result"
    }
   ],
   "source": [
    "# Item\n",
    "# https://learn.microsoft.com/en-us/office/vba/api/word.wdprintoutitem\n",
    "'''\n",
    "Name\t                    Value\tDescription\n",
    "wdPrintAutoTextEntries\t    4\t    Autotext entries in the current document.\n",
    "wdPrintComments\t            2\t    Comments in the current document.\n",
    "wdPrintDocumentContent\t    0\t    Current document content.\n",
    "wdPrintDocumentWithMarkup\t7\t    Current document content including markup.\n",
    "wdPrintEnvelope\t            6\t    An envelope.\n",
    "wdPrintKeyAssignments\t    5\t    Key assignments in the current document.\n",
    "wdPrintMarkup\t            2\t    Markup in the current document.\n",
    "wdPrintProperties\t        1\t    Properties in the current document.\n",
    "wdPrintStyles\t            3\t    Styles in the current document.\n",
    "'''"
   ]
  },
  {
   "cell_type": "code",
   "execution_count": 13,
   "metadata": {},
   "outputs": [
    {
     "data": {
      "text/plain": [
       "'\\nName\\t                Value\\tDescription\\nwdPrintAllPages\\t        0\\t    All pages.\\nwdPrintEvenPagesOnly\\t2\\t    Even-numbered pages only.\\nwdPrintOddPagesOnly\\t    1\\t    Odd-numbered pages only.\\n'"
      ]
     },
     "execution_count": 13,
     "metadata": {},
     "output_type": "execute_result"
    }
   ],
   "source": [
    "# PageType\n",
    "# https://learn.microsoft.com/en-us/office/vba/api/word.wdprintoutpages\n",
    "'''\n",
    "Name\t                Value\tDescription\n",
    "wdPrintAllPages\t        0\t    All pages.\n",
    "wdPrintEvenPagesOnly\t2\t    Even-numbered pages only.\n",
    "wdPrintOddPagesOnly\t    1\t    Odd-numbered pages only.\n",
    "'''"
   ]
  },
  {
   "cell_type": "code",
   "execution_count": 14,
   "metadata": {},
   "outputs": [
    {
     "data": {
      "text/plain": [
       "'\\nBackground\\nRange\\nFrom\\nTo\\nItem\\nCopies\\nPages\\nPageType\\nCollate\\nFileName\\n'"
      ]
     },
     "execution_count": 14,
     "metadata": {},
     "output_type": "execute_result"
    }
   ],
   "source": [
    "'''\n",
    "ManualDuplexPrint\n",
    "PageType\n",
    "PrintOddPagesInAscendingOrder\n",
    "PrintEvenPagesInAscendingOrder\n",
    "'''"
   ]
  },
  {
   "cell_type": "code",
   "execution_count": 15,
   "metadata": {},
   "outputs": [],
   "source": [
    "# Options\n",
    "# https://learn.microsoft.com/en-us/office/vba/api/word.options\n",
    "# https://learn.microsoft.com/en-us/office/vba/api/word.options.printoddpagesinascendingorder\n",
    "# https://learn.microsoft.com/en-us/office/vba/api/word.options.printevenpagesinascendingorder\n",
    "'''\n",
    "wrd.Options.PrintEvenPagesInAscendingOrder\n",
    "wrd.Options.PrintOddPagesInAscendingOrder\n",
    "'''"
   ]
  },
  {
   "cell_type": "code",
   "execution_count": 16,
   "metadata": {},
   "outputs": [
    {
     "data": {
      "text/plain": [
       "'\\nManualDuplexPrint\\nPageType\\nPrintOddPagesInAscendingOrder\\nPrintEvenPagesInAscendingOrder\\n'"
      ]
     },
     "execution_count": 16,
     "metadata": {},
     "output_type": "execute_result"
    }
   ],
   "source": [
    "'''\n",
    "PrintToFile\n",
    "OutputFileName\n",
    "Append\n",
    "'''"
   ]
  },
  {
   "cell_type": "code",
   "execution_count": null,
   "metadata": {},
   "outputs": [],
   "source": []
  },
  {
   "cell_type": "code",
   "execution_count": null,
   "metadata": {},
   "outputs": [],
   "source": [
    "def printWord(self, path):\n",
    "\n",
    "    Background = True\n",
    "    Append = False\n",
    "    Range = 3\n",
    "    OutputFileName = ''\n",
    "    From = str(1)\n",
    "    To = str(doc.ComputeStatistics(2))\n",
    "    \n",
    "    doc.PrintOut(Background, Append, Range, OutputFileName, From, To)\n",
    "    doc.Close()"
   ]
  }
 ],
 "metadata": {
  "kernelspec": {
   "display_name": "base",
   "language": "python",
   "name": "python3"
  },
  "language_info": {
   "codemirror_mode": {
    "name": "ipython",
    "version": 3
   },
   "file_extension": ".py",
   "mimetype": "text/x-python",
   "name": "python",
   "nbconvert_exporter": "python",
   "pygments_lexer": "ipython3",
   "version": "3.9.16"
  }
 },
 "nbformat": 4,
 "nbformat_minor": 2
}
