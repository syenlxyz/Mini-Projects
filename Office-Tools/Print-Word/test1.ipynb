{
 "cells": [
  {
   "cell_type": "code",
   "execution_count": 2,
   "metadata": {},
   "outputs": [],
   "source": [
    "from pathlib import Path\n",
    "from win32com.client import Dispatch"
   ]
  },
  {
   "cell_type": "code",
   "execution_count": 3,
   "metadata": {},
   "outputs": [],
   "source": [
    "WdPrintOutRange = {\n",
    "    'AllDocument': 0,\n",
    "    'CurrentPage': 2,\n",
    "    'FromTo': 3,\n",
    "    'RangeOfPages': 4,\n",
    "    'Selection': 1\n",
    "}"
   ]
  },
  {
   "cell_type": "code",
   "execution_count": 4,
   "metadata": {},
   "outputs": [],
   "source": [
    "WdPrintOutItem = {\n",
    "    'AutoTextEntries': 4,\n",
    "    'Comments': 2,\n",
    "    'DocumentContent': 0,\n",
    "    'DocumentWithMarkup': 7,\n",
    "    'Envelope': 6,\n",
    "    'KeyAssignments': 5,\n",
    "    'Markup': 2,\n",
    "    'Properties': 1,\n",
    "    'Styles': 3\n",
    "}"
   ]
  },
  {
   "cell_type": "code",
   "execution_count": 5,
   "metadata": {},
   "outputs": [],
   "source": [
    "WdPrintOutPages = {\n",
    "    'AllPages': 0,\n",
    "    'EvenPagesOnly': 2,\n",
    "    'OddPagesOnly': 1\n",
    "}"
   ]
  },
  {
   "cell_type": "code",
   "execution_count": 6,
   "metadata": {},
   "outputs": [],
   "source": [
    "def print_word(file_path, params):\n",
    "    wrd = Dispatch('Word.Application')\n",
    "    wrd.Visible = False\n",
    "    wrd.Documents.Open(file_path.as_posix(), ReadOnly=True)\n",
    "    wrd.PrintOut(**params)\n",
    "    wrd.Quit(SaveChanges=False)"
   ]
  },
  {
   "cell_type": "code",
   "execution_count": 7,
   "metadata": {},
   "outputs": [],
   "source": [
    "input_path = Path.cwd() / 'input'"
   ]
  },
  {
   "cell_type": "code",
   "execution_count": 8,
   "metadata": {},
   "outputs": [],
   "source": [
    "file_list = list(input_path.glob('*.doc')) + list(input_path.glob('*.docx'))"
   ]
  },
  {
   "cell_type": "code",
   "execution_count": 9,
   "metadata": {},
   "outputs": [],
   "source": [
    "params = {\n",
    "    'Background': False,\n",
    "    'Append': False,\n",
    "    'Range': WdPrintOutRange['FromTo'],\n",
    "    'OutputFileName': '',\n",
    "    'From': '1',\n",
    "    'To': '2',\n",
    "    'Item': WdPrintOutItem['DocumentContent'],\n",
    "    'Copies': 1,\n",
    "    'Pages': '',\n",
    "    'PageType': WdPrintOutPages['AllPages']\n",
    "}\n",
    "\n",
    "for file_path in file_list[1:]:\n",
    "    print_word(file_path, params)"
   ]
  },
  {
   "cell_type": "code",
   "execution_count": null,
   "metadata": {},
   "outputs": [],
   "source": []
  }
 ],
 "metadata": {
  "kernelspec": {
   "display_name": "base",
   "language": "python",
   "name": "python3"
  },
  "language_info": {
   "codemirror_mode": {
    "name": "ipython",
    "version": 3
   },
   "file_extension": ".py",
   "mimetype": "text/x-python",
   "name": "python",
   "nbconvert_exporter": "python",
   "pygments_lexer": "ipython3",
   "version": "3.9.16"
  }
 },
 "nbformat": 4,
 "nbformat_minor": 2
}
