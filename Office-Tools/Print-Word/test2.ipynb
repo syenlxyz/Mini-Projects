{
 "cells": [
  {
   "cell_type": "code",
   "execution_count": null,
   "metadata": {},
   "outputs": [],
   "source": [
    "from pathlib import Path\n",
    "from win32com.client import Dispatch"
   ]
  },
  {
   "cell_type": "code",
   "execution_count": null,
   "metadata": {},
   "outputs": [],
   "source": [
    "WdStatistic = {\n",
    "    'Characters': 3,\n",
    "    'CharactersWithSpaces': 5,\n",
    "    'FarEastCharacters': 6,\n",
    "    'Lines': 1,\n",
    "    'Pages': 2,\n",
    "    'Paragraphs': 4,\n",
    "    'Words': 0\n",
    "}"
   ]
  },
  {
   "cell_type": "code",
   "execution_count": null,
   "metadata": {},
   "outputs": [],
   "source": [
    "WdGoToItem = {\n",
    "    'Bookmark': -1,\n",
    "    'Comment': 6,\n",
    "    'Endnote': 5,\n",
    "    'Equation': 10,\n",
    "    'Field': 7,\n",
    "    'Footnote': 4,\n",
    "    'GrammaticalError': 14,\n",
    "    'Graphic': 8,\n",
    "    'Heading': 11,\n",
    "    'Line': 3,\n",
    "    'Object': 9,\n",
    "    'Page': 1,\n",
    "    'Percent': 12,\n",
    "    'ProofreadingError': 15,\n",
    "    'Section': 0,\n",
    "    'SpellingError': 13,\n",
    "    'Table': 2\n",
    "}\n",
    "\n",
    "WdGoToDirection   = {\n",
    "    'Absolute': 1,\n",
    "    'First': 1,\n",
    "    'Last': -1,\n",
    "    'Next': 2,\n",
    "    'Previous': 3,\n",
    "    'Relative': 2\n",
    "}"
   ]
  },
  {
   "cell_type": "code",
   "execution_count": null,
   "metadata": {},
   "outputs": [],
   "source": [
    "WdPrintOutRange = {\n",
    "    'AllDocument': 0,\n",
    "    'CurrentPage': 2,\n",
    "    'FromTo': 3,\n",
    "    'RangeOfPages': 4,\n",
    "    'Selection': 1\n",
    "}\n",
    "\n",
    "WdPrintOutItem = {\n",
    "    'AutoTextEntries': 4,\n",
    "    'Comments': 2,\n",
    "    'DocumentContent': 0,\n",
    "    'DocumentWithMarkup': 7,\n",
    "    'Envelope': 6,\n",
    "    'KeyAssignments': 5,\n",
    "    'Markup': 2,\n",
    "    'Properties': 1,\n",
    "    'Styles': 3\n",
    "}\n",
    "\n",
    "WdPrintOutPages = {\n",
    "    'AllPages': 0,\n",
    "    'EvenPagesOnly': 2,\n",
    "    'OddPagesOnly': 1\n",
    "}"
   ]
  },
  {
   "cell_type": "code",
   "execution_count": null,
   "metadata": {},
   "outputs": [],
   "source": [
    "def print_word(file_path, params):\n",
    "    wrd = Dispatch('Word.Application')\n",
    "    wrd.Visible = False\n",
    "    wrd.Options.PrintReverse = True\n",
    "    \n",
    "    wrd.Documents.Open(file_path.as_posix(), ReadOnly=True)\n",
    "    \n",
    "    num_page = wrd.ActiveDocument.ComputeStatistics(Statistic=WdStatistic['Pages'])\n",
    "    if num_page % 2:\n",
    "        wrd.Selection.GoTo(WdGoToItem['Line'], WdGoToDirection['Last'])\n",
    "        wrd.Selection.EndKey()\n",
    "        wrd.Selection.InsertNewPage()\n",
    "    \n",
    "    params = {\n",
    "        'Background': False,\n",
    "        'Append': False,\n",
    "        'Range': WdPrintOutRange['AllDocument'],\n",
    "        'OutputFileName': '',\n",
    "        'From': '',\n",
    "        'To': '',\n",
    "        'Item': WdPrintOutItem['DocumentContent'],\n",
    "        'Copies': 1,\n",
    "        'Pages': '',\n",
    "        'PageType': WdPrintOutPages['AllPages'],\n",
    "        'PrintToFile': False,\n",
    "        'Collate': True\n",
    "    }\n",
    "    \n",
    "    params['PageType'] = WdPrintOutPages['OddPagesOnly']\n",
    "    wrd.PrintOut(**params)\n",
    "    input('Press ENTER to continue...')\n",
    "    params['PageType'] = WdPrintOutPages['EvenPagesOnly']\n",
    "    wrd.PrintOut(**params)\n",
    "    \n",
    "    wrd.Quit(SaveChanges=False)"
   ]
  },
  {
   "cell_type": "code",
   "execution_count": null,
   "metadata": {},
   "outputs": [],
   "source": [
    "input_path = Path.cwd() / 'input'\n",
    "file_list = list(input_path.glob('*.doc')) + list(input_path.glob('*.docx'))\n",
    "for file_path in file_list:\n",
    "    print_word(file_path)"
   ]
  },
  {
   "cell_type": "code",
   "execution_count": null,
   "metadata": {},
   "outputs": [],
   "source": []
  }
 ],
 "metadata": {
  "kernelspec": {
   "display_name": "base",
   "language": "python",
   "name": "python3"
  },
  "language_info": {
   "codemirror_mode": {
    "name": "ipython",
    "version": 3
   },
   "file_extension": ".py",
   "mimetype": "text/x-python",
   "name": "python",
   "nbconvert_exporter": "python",
   "pygments_lexer": "ipython3",
   "version": "3.9.16"
  }
 },
 "nbformat": 4,
 "nbformat_minor": 2
}
