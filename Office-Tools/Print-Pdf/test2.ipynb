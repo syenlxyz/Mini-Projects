{
 "cells": [
  {
   "cell_type": "code",
   "execution_count": 1,
   "metadata": {},
   "outputs": [],
   "source": [
    "from pathlib import Path\n",
    "from win32com.client import Dispatch"
   ]
  },
  {
   "cell_type": "code",
   "execution_count": 2,
   "metadata": {},
   "outputs": [],
   "source": [
    "input_path = Path.cwd() / 'input'\n",
    "temp_path = Path.cwd() / 'temp.pdf'\n",
    "file_list = list(input_path.glob('*.pdf'))"
   ]
  },
  {
   "cell_type": "code",
   "execution_count": 3,
   "metadata": {},
   "outputs": [
    {
     "data": {
      "text/plain": [
       "WindowsPath('c:/Users/SyenLxyz/Desktop/Mini-Projects/Office-Tools/Print-Pdf/input/sample-even.pdf')"
      ]
     },
     "execution_count": 3,
     "metadata": {},
     "output_type": "execute_result"
    }
   ],
   "source": [
    "file_path = file_list[0]\n",
    "file_path"
   ]
  },
  {
   "cell_type": "code",
   "execution_count": 4,
   "metadata": {},
   "outputs": [],
   "source": [
    "iPageOption = {\n",
    "    'PDBeforeFirstPage': -1,\n",
    "    'PDLastPage': -2,\n",
    "    'PDAllPages': -3,\n",
    "    'PDOddPagesOnly': -4,\n",
    "    'PDEvenPagesOnly': -5\n",
    "}"
   ]
  },
  {
   "cell_type": "code",
   "execution_count": 5,
   "metadata": {},
   "outputs": [
    {
     "data": {
      "text/plain": [
       "True"
      ]
     },
     "execution_count": 5,
     "metadata": {},
     "output_type": "execute_result"
    }
   ],
   "source": [
    "app = Dispatch('AcroExch.App')\n",
    "app.Hide()\n",
    "\n",
    "avDoc = Dispatch('AcroExch.AVDoc')\n",
    "avDoc.Open(file_path.as_posix(), '')\n",
    "\n",
    "pdDoc = avDoc.GetPDDoc()\n",
    "num_page = pdDoc.GetNumPages()\n",
    "\n",
    "if num_page % 2:\n",
    "    temp = Dispatch('AcroExch.PDDoc')\n",
    "    temp.Open(temp_path.as_posix())\n",
    "    pdDoc.InsertPages(num_page-1, temp, 0, 1, 0)\n",
    "    temp.Close(-1)\n",
    "\n",
    "params = {\n",
    "    'nFirstPage': 0,\n",
    "    'nLastPage': num_page - 1,\n",
    "    'nPSLevel': 3,\n",
    "    'bBinaryOk': 0,\n",
    "    'bShrinkToFit': 0,\n",
    "    'bReverse': True,\n",
    "    'bFarEastFontOpt': 0,\n",
    "    'bEmitHalftones': 0,\n",
    "    'iPageOption': iPageOption['PDAllPages']\n",
    "}\n",
    "\n",
    "params['iPageOption'] = iPageOption['PDOddPagesOnly']\n",
    "avDoc.PrintPagesEx(**params)\n",
    "input('Press ENTER to continue...')\n",
    "params['iPageOption'] = iPageOption['PDEvenPagesOnly']\n",
    "avDoc.PrintPagesEx(**params)\n",
    "\n",
    "avDoc.Close(-1)\n",
    "app.MenuItemExecute('Quit')"
   ]
  },
  {
   "cell_type": "code",
   "execution_count": null,
   "metadata": {},
   "outputs": [],
   "source": []
  }
 ],
 "metadata": {
  "kernelspec": {
   "display_name": "base",
   "language": "python",
   "name": "python3"
  },
  "language_info": {
   "codemirror_mode": {
    "name": "ipython",
    "version": 3
   },
   "file_extension": ".py",
   "mimetype": "text/x-python",
   "name": "python",
   "nbconvert_exporter": "python",
   "pygments_lexer": "ipython3",
   "version": "3.9.16"
  }
 },
 "nbformat": 4,
 "nbformat_minor": 2
}
