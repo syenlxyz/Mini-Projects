{
 "cells": [
  {
   "cell_type": "code",
   "execution_count": 1,
   "metadata": {},
   "outputs": [],
   "source": [
    "from pathlib import Path"
   ]
  },
  {
   "cell_type": "code",
   "execution_count": 2,
   "metadata": {},
   "outputs": [],
   "source": [
    "input_path = Path.cwd() / 'input'"
   ]
  },
  {
   "cell_type": "code",
   "execution_count": 3,
   "metadata": {},
   "outputs": [],
   "source": [
    "file_list = list(input_path.glob('*.pdf'))"
   ]
  },
  {
   "cell_type": "code",
   "execution_count": 4,
   "metadata": {},
   "outputs": [
    {
     "data": {
      "text/plain": [
       "WindowsPath('c:/Users/SyenLxyz/Desktop/Mini-Projects/Office-Tools/Print-Pdf/input/sample-even.pdf')"
      ]
     },
     "execution_count": 4,
     "metadata": {},
     "output_type": "execute_result"
    }
   ],
   "source": [
    "file_path = file_list[0]\n",
    "file_path"
   ]
  },
  {
   "cell_type": "code",
   "execution_count": 5,
   "metadata": {},
   "outputs": [],
   "source": [
    "from win32com.client import Dispatch"
   ]
  },
  {
   "cell_type": "code",
   "execution_count": 6,
   "metadata": {},
   "outputs": [],
   "source": [
    "# https://opensource.adobe.com/dc-acrobat-sdk-docs/library/interapp/IAC_DevApp_OLE_Support.html\n",
    "app = Dispatch('AcroExch.App')"
   ]
  },
  {
   "cell_type": "code",
   "execution_count": 7,
   "metadata": {},
   "outputs": [],
   "source": [
    "# https://opensource.adobe.com/dc-acrobat-sdk-docs/library/interapp/IAC_API_OLE_Objects.html#50532405_20395\n",
    "#app.Show()"
   ]
  },
  {
   "cell_type": "code",
   "execution_count": 8,
   "metadata": {},
   "outputs": [
    {
     "data": {
      "text/plain": [
       "True"
      ]
     },
     "execution_count": 8,
     "metadata": {},
     "output_type": "execute_result"
    }
   ],
   "source": [
    "# https://opensource.adobe.com/dc-acrobat-sdk-docs/library/interapp/IAC_API_OLE_Objects.html#50532405_35477\n",
    "app.Hide()"
   ]
  },
  {
   "cell_type": "code",
   "execution_count": 9,
   "metadata": {},
   "outputs": [],
   "source": [
    "avDoc = Dispatch('AcroExch.AVDoc')"
   ]
  },
  {
   "cell_type": "code",
   "execution_count": 10,
   "metadata": {},
   "outputs": [
    {
     "data": {
      "text/plain": [
       "True"
      ]
     },
     "execution_count": 10,
     "metadata": {},
     "output_type": "execute_result"
    }
   ],
   "source": [
    "# https://opensource.adobe.com/dc-acrobat-sdk-docs/library/interapp/IAC_API_OLE_Objects.html#50532405_23963\n",
    "avDoc.Open(file_path.as_posix(), '')"
   ]
  },
  {
   "cell_type": "code",
   "execution_count": 11,
   "metadata": {},
   "outputs": [],
   "source": [
    "# https://opensource.adobe.com/dc-acrobat-sdk-docs/library/interapp/IAC_API_OLE_Objects.html#50532405_25013\n",
    "pdDoc = avDoc.GetPDDoc()"
   ]
  },
  {
   "cell_type": "code",
   "execution_count": null,
   "metadata": {},
   "outputs": [],
   "source": [
    "# https://opensource.adobe.com/dc-acrobat-sdk-docs/library/interapp/IAC_API_OLE_Objects.html#50532405_16929\n",
    "\n",
    "'''\n",
    "nInsertPageAfter    The page in the current document after which pages from the source document are inserted. The first page in a PDDoc object is page 0.\n",
    "iPDDocSource        The LPDISPATCH for the AcroExch.PDDoc containing the pages to insert. iPDDocSource contains the instance variable m_lpDispatch, which contains the LPDISPATCH.\n",
    "nStartPage          The first page in iPDDocSource to be inserted into the current document.\n",
    "nNumPages           The number of pages to be inserted.\n",
    "bBookmarks          If a positive number, bookmarks are copied from the source document. If 0, they are not.\n",
    "'''\n",
    "\n",
    "# pdDoc.InsertPages"
   ]
  },
  {
   "cell_type": "code",
   "execution_count": null,
   "metadata": {},
   "outputs": [],
   "source": []
  },
  {
   "cell_type": "code",
   "execution_count": 12,
   "metadata": {},
   "outputs": [
    {
     "data": {
      "text/plain": [
       "4"
      ]
     },
     "execution_count": 12,
     "metadata": {},
     "output_type": "execute_result"
    }
   ],
   "source": [
    "# https://opensource.adobe.com/dc-acrobat-sdk-docs/library/interapp/IAC_API_OLE_Objects.html#50532405_30052\n",
    "pdDoc.GetNumPages()"
   ]
  },
  {
   "cell_type": "code",
   "execution_count": 13,
   "metadata": {},
   "outputs": [],
   "source": [
    "'''\n",
    "nFirstPage      The first page to be printed. The first page in a PDDoc object is page 0.\n",
    "nLastPage       The last page to be printed.\n",
    "nPSLevel        Valid values are 2 and 3. If 2, PostScript Level 2 operators are used. If 3, PostScript Language Level 3 operators are also used.\n",
    "bBinaryOk       If a positive number, binary data can be included in the PostScript program. If 0, all data is encoded as 7-bit ASCII.\n",
    "bShrinkToFit    If a positive number, the page is shrunk (if necessary) to fit within the imageable area of the printed page. If 0, it is not.\n",
    "'''\n",
    "\n",
    "params = {\n",
    "    'nFirstPage': 0,\n",
    "    'nLastPage': 0,\n",
    "    'nPSLevel': 3,\n",
    "    'bBinaryOk': 0,\n",
    "    'bShrinkToFit': 0\n",
    "}\n",
    "\n",
    "# https://opensource.adobe.com/dc-acrobat-sdk-docs/library/interapp/IAC_API_OLE_Objects.html#50532405_30920\n",
    "#avDoc.PrintPages(**params)"
   ]
  },
  {
   "cell_type": "code",
   "execution_count": 14,
   "metadata": {},
   "outputs": [],
   "source": [
    "# https://pdf-file.nnn2.com/?p=132\n",
    "'''\n",
    "Public Const PDBeforeFirstPage = -1 '\n",
    "Public Const PDLastPage = -2      '\n",
    "Public Const PDAllPages = -3 '\n",
    "Public Const PDOddPagesOnly = -4 '\n",
    "Public Const PDEvenPagesOnly = -5 '\n",
    "'''\n",
    "\n",
    "iPageOption = {\n",
    "    'PDBeforeFirstPage': -1,\n",
    "    'PDLastPage': -2,\n",
    "    'PDAllPages': -3,\n",
    "    'PDOddPagesOnly': -4,\n",
    "    'PDEvenPagesOnly': -5\n",
    "}"
   ]
  },
  {
   "cell_type": "code",
   "execution_count": 15,
   "metadata": {},
   "outputs": [
    {
     "data": {
      "text/plain": [
       "True"
      ]
     },
     "execution_count": 15,
     "metadata": {},
     "output_type": "execute_result"
    }
   ],
   "source": [
    "'''\n",
    "nFirstPage          The first page to be printed. The first page in a PDDoc object is page 0.\n",
    "nLastPage           The last page to be printed.\n",
    "nPSLevel            If 2, PostScript Level 2 operators are used. If 3, PostScript Language Level 3 operators are also used.\n",
    "bBinaryOk           If a positive number, binary data may be included in the PostScript program. If 0, all data is encoded as 7-bit ASCII.\n",
    "bShrinkToFit        If a positive number, the page is shrunk (if necessary) to fit within the imageable area of the printed page. If 0, it is not.\n",
    "bReverse            (PostScript printing only) If a positive number, print the pages in reverse order. If false, print the pages in the regular order.\n",
    "bFarEastFontOpt     (PostScript printing only) Set to a positive number if the destination printer has multibyte fonts; set to 0 otherwise.\n",
    "bEmitHalftones      (PostScript printing only) If a positive number, emit the halftones specified in the document. If 0, do not.\n",
    "iPageOption         Pages in the range to print. Must be one of: PDAllPages, PDEvenPagesOnly, or PDOddPagesOnly.\n",
    "'''\n",
    "\n",
    "params = {\n",
    "    'nFirstPage': 0,\n",
    "    'nLastPage': 3,\n",
    "    'nPSLevel': 3,\n",
    "    'bBinaryOk': 0,\n",
    "    'bShrinkToFit': 0,\n",
    "    'bReverse': True,\n",
    "    'bFarEastFontOpt': 0,\n",
    "    'bEmitHalftones': 0,\n",
    "    'iPageOption': iPageOption['PDAllPages']\n",
    "}\n",
    "\n",
    "# https://opensource.adobe.com/dc-acrobat-sdk-docs/library/interapp/IAC_API_OLE_Objects.html#50532405_37344\n",
    "avDoc.PrintPagesEx(**params)"
   ]
  },
  {
   "cell_type": "code",
   "execution_count": null,
   "metadata": {},
   "outputs": [],
   "source": [
    "# https://opensource.adobe.com/dc-acrobat-sdk-docs/library/interapp/IAC_API_OLE_Objects.html#50532405_17615\n",
    "#app.MenuItemExecute('Quit')"
   ]
  },
  {
   "cell_type": "code",
   "execution_count": 17,
   "metadata": {},
   "outputs": [
    {
     "data": {
      "text/plain": [
       "True"
      ]
     },
     "execution_count": 17,
     "metadata": {},
     "output_type": "execute_result"
    }
   ],
   "source": [
    "# https://opensource.adobe.com/dc-acrobat-sdk-docs/library/interapp/IAC_API_OLE_Objects.html#50532405_33231\n",
    "#app.CloseAllDocs()"
   ]
  },
  {
   "cell_type": "code",
   "execution_count": 18,
   "metadata": {},
   "outputs": [
    {
     "data": {
      "text/plain": [
       "False"
      ]
     },
     "execution_count": 18,
     "metadata": {},
     "output_type": "execute_result"
    }
   ],
   "source": [
    "# https://opensource.adobe.com/dc-acrobat-sdk-docs/library/interapp/IAC_API_OLE_Objects.html#50532405_24553\n",
    "#app.Exit()"
   ]
  },
  {
   "cell_type": "code",
   "execution_count": 16,
   "metadata": {},
   "outputs": [
    {
     "data": {
      "text/plain": [
       "True"
      ]
     },
     "execution_count": 16,
     "metadata": {},
     "output_type": "execute_result"
    }
   ],
   "source": [
    "# https://opensource.adobe.com/dc-acrobat-sdk-docs/library/interapp/IAC_API_OLE_Objects.html#50532405_10907\n",
    "#avDoc.Close(-1)"
   ]
  }
 ],
 "metadata": {
  "kernelspec": {
   "display_name": "base",
   "language": "python",
   "name": "python3"
  },
  "language_info": {
   "codemirror_mode": {
    "name": "ipython",
    "version": 3
   },
   "file_extension": ".py",
   "mimetype": "text/x-python",
   "name": "python",
   "nbconvert_exporter": "python",
   "pygments_lexer": "ipython3",
   "version": "3.9.16"
  }
 },
 "nbformat": 4,
 "nbformat_minor": 2
}
