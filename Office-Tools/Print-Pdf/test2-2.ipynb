{
 "cells": [
  {
   "cell_type": "code",
   "execution_count": null,
   "metadata": {},
   "outputs": [],
   "source": [
    "from pathlib import Path\n",
    "from win32com.client import Dispatch"
   ]
  },
  {
   "cell_type": "code",
   "execution_count": null,
   "metadata": {},
   "outputs": [],
   "source": [
    "input_path = Path.cwd() / 'input'\n",
    "file_list = list(input_path.glob('*.pdf'))"
   ]
  },
  {
   "cell_type": "code",
   "execution_count": null,
   "metadata": {},
   "outputs": [],
   "source": [
    "file_path = file_list[0]\n",
    "file_path"
   ]
  },
  {
   "cell_type": "code",
   "execution_count": null,
   "metadata": {},
   "outputs": [],
   "source": [
    "iPageOption = {\n",
    "    'PDBeforeFirstPage': -1,\n",
    "    'PDLastPage': -2,\n",
    "    'PDAllPages': -3,\n",
    "    'PDOddPagesOnly': -4,\n",
    "    'PDEvenPagesOnly': -5\n",
    "}"
   ]
  },
  {
   "cell_type": "code",
   "execution_count": null,
   "metadata": {},
   "outputs": [],
   "source": [
    "app = Dispatch('AcroExch.App')\n",
    "app.Hide()"
   ]
  },
  {
   "cell_type": "code",
   "execution_count": null,
   "metadata": {},
   "outputs": [],
   "source": [
    "avDoc = Dispatch('AcroExch.AVDoc')"
   ]
  },
  {
   "cell_type": "code",
   "execution_count": null,
   "metadata": {},
   "outputs": [],
   "source": [
    "avDoc.Open(file_path.as_posix(), '')"
   ]
  },
  {
   "cell_type": "code",
   "execution_count": null,
   "metadata": {},
   "outputs": [],
   "source": [
    "app.Show()"
   ]
  },
  {
   "cell_type": "code",
   "execution_count": null,
   "metadata": {},
   "outputs": [],
   "source": [
    "pdDoc = avDoc.GetPDDoc()"
   ]
  },
  {
   "cell_type": "code",
   "execution_count": null,
   "metadata": {},
   "outputs": [],
   "source": [
    "num_page = pdDoc.GetNumPages()"
   ]
  },
  {
   "cell_type": "code",
   "execution_count": null,
   "metadata": {},
   "outputs": [],
   "source": [
    "pdDoc.InsertPages(num_page-1, pdDoc, num_page-1, num_page-1, 0)"
   ]
  },
  {
   "cell_type": "code",
   "execution_count": null,
   "metadata": {},
   "outputs": [],
   "source": [
    "nInsertPageAfter\n",
    "iPDDocSource\n",
    "nStartPage\n",
    "nNumPages\n",
    "bBookmark"
   ]
  },
  {
   "cell_type": "code",
   "execution_count": null,
   "metadata": {},
   "outputs": [],
   "source": []
  },
  {
   "cell_type": "code",
   "execution_count": null,
   "metadata": {},
   "outputs": [],
   "source": [
    "params = {\n",
    "    'nFirstPage': 0,\n",
    "    'nLastPage': num_page - 1,\n",
    "    'nPSLevel': 3,\n",
    "    'bBinaryOk': 0,\n",
    "    'bShrinkToFit': 0,\n",
    "    'bReverse': True,\n",
    "    'bFarEastFontOpt': 0,\n",
    "    'bEmitHalftones': 0,\n",
    "    'iPageOption': iPageOption['PDAllPages']\n",
    "}\n",
    "\n",
    "params['iPageOption'] = iPageOption['PDOddPagesOnly']\n",
    "avDoc.PrintPagesEx(**params)\n",
    "input('Press ENTER to continue...')\n",
    "params['iPageOption'] = iPageOption['PDEvenPagesOnly']\n",
    "avDoc.PrintPagesEx(**params)\n",
    "\n",
    "if num_page % 2:\n",
    "    pass\n",
    "    # print blank page"
   ]
  },
  {
   "cell_type": "code",
   "execution_count": null,
   "metadata": {},
   "outputs": [],
   "source": [
    "avDoc.Close()"
   ]
  },
  {
   "cell_type": "code",
   "execution_count": null,
   "metadata": {},
   "outputs": [],
   "source": [
    "app.MenuItemExecute('Quit')"
   ]
  },
  {
   "cell_type": "code",
   "execution_count": null,
   "metadata": {},
   "outputs": [],
   "source": []
  },
  {
   "cell_type": "code",
   "execution_count": null,
   "metadata": {},
   "outputs": [],
   "source": []
  },
  {
   "cell_type": "code",
   "execution_count": null,
   "metadata": {},
   "outputs": [],
   "source": [
    "from win32api import ShellExecute\n",
    "ShellExecute(0, 'print', file_path.as_posix(), None, '.', 0)"
   ]
  },
  {
   "cell_type": "code",
   "execution_count": null,
   "metadata": {},
   "outputs": [],
   "source": [
    "def print_pdf(file_path):\n",
    "    win32api.ShellExecute(0, 'print', str(file_path), None, '.', 0)\n",
    "    os.system('taskkill /f /im Acrobat.exe')"
   ]
  },
  {
   "cell_type": "code",
   "execution_count": null,
   "metadata": {},
   "outputs": [],
   "source": []
  }
 ],
 "metadata": {
  "kernelspec": {
   "display_name": "base",
   "language": "python",
   "name": "python3"
  },
  "language_info": {
   "codemirror_mode": {
    "name": "ipython",
    "version": 3
   },
   "file_extension": ".py",
   "mimetype": "text/x-python",
   "name": "python",
   "nbconvert_exporter": "python",
   "pygments_lexer": "ipython3",
   "version": "3.9.16"
  }
 },
 "nbformat": 4,
 "nbformat_minor": 2
}
