{
 "cells": [
  {
   "cell_type": "code",
   "execution_count": null,
   "metadata": {},
   "outputs": [],
   "source": [
    "from mutagen.mp4 import MP4\n",
    "from pathlib import Path\n",
    "import re"
   ]
  },
  {
   "cell_type": "code",
   "execution_count": null,
   "metadata": {},
   "outputs": [],
   "source": [
    "input_path = Path.cwd() / 'input'"
   ]
  },
  {
   "cell_type": "code",
   "execution_count": null,
   "metadata": {},
   "outputs": [],
   "source": [
    "input_folder = 'Watch - TV Shows (Anime)'\n",
    "input_path = Path('d:/') / input_folder # f in asus, d in lenovo"
   ]
  },
  {
   "cell_type": "code",
   "execution_count": null,
   "metadata": {},
   "outputs": [],
   "source": [
    "folder_list = [x for x in input_path.iterdir() if x.is_dir()]"
   ]
  },
  {
   "cell_type": "code",
   "execution_count": null,
   "metadata": {},
   "outputs": [],
   "source": [
    "def update_title(file_path):\n",
    "    file = MP4(file_path)\n",
    "    title = ''.join(file['©nam'])\n",
    "    \n",
    "    if not title:\n",
    "        file['©nam'] = file_path.stem\n",
    "        file['©cmt'] = file_path.stem\n",
    "        file.save()"
   ]
  },
  {
   "cell_type": "code",
   "execution_count": null,
   "metadata": {},
   "outputs": [],
   "source": [
    "def get_episode(file_path):\n",
    "    patterns = [\n",
    "        r'\\[E\\d+\\]',\n",
    "        r'\\[\\d+(\\.\\d)?(v\\d)?\\]',\n",
    "        r'\\[\\d+\\s?END\\]',\n",
    "        r'\\[\\d+_\\d+\\]',\n",
    "        r'-\\s?\\d+',\n",
    "        r'\\.\\d+',\n",
    "        r'第\\d+话',\n",
    "        r'第\\d+話'\n",
    "    ]\n",
    "    \n",
    "    for pattern in patterns:\n",
    "        result = re.search(pattern, file_path.stem)\n",
    "        if result:\n",
    "            text = result.group()\n",
    "            search = re.search(r'\\d+(\\.\\d)?', text)\n",
    "            episode = search.group().replace('.', '_')\n",
    "            return episode"
   ]
  },
  {
   "cell_type": "code",
   "execution_count": null,
   "metadata": {},
   "outputs": [],
   "source": [
    "for folder_path in folder_list:\n",
    "    file_list = list(folder_path.glob('*.mp4'))\n",
    "    \n",
    "    episodes = []\n",
    "    for file_path in file_list:\n",
    "        update_title(file_path)\n",
    "        if 'OVA' not in file_path.stem:\n",
    "            episode = get_episode(file_path)\n",
    "        else:\n",
    "            episode = None\n",
    "        \n",
    "        if episode:\n",
    "            episodes.append(episode)\n",
    "        else:\n",
    "            print(file_path.stem)\n",
    "    \n",
    "    num_digit = max([len(x.split('_')[0]) for x in episodes])\n",
    "    episodes = [x.zfill(num_digit) for x in episodes]\n",
    "    \n",
    "    print(folder_path.name)\n",
    "    print(episodes)\n",
    "    print()"
   ]
  },
  {
   "cell_type": "code",
   "execution_count": null,
   "metadata": {},
   "outputs": [],
   "source": [
    "for folder_path in folder_list:\n",
    "    pattern = r'\\[(.*?)\\]'\n",
    "    result = re.findall(pattern, folder_path.name)\n",
    "    english_name = result[0]\n",
    "    chinese_name = result[1]\n",
    "    subtitle = result[-3]\n",
    "    resolution = result[-2]\n",
    "    \n",
    "    pattern = r'\\[S\\d+\\]'\n",
    "    result = re.search(pattern, folder_path.name)\n",
    "    if result:\n",
    "        text = result.group()\n",
    "        pattern = r'S\\d+'\n",
    "        search = re.search(pattern, text)\n",
    "        season = search.group()\n",
    "    else:\n",
    "        season = 'S1'\n",
    "    \n",
    "    #print(folder_path.name)\n",
    "    print(f'{english_name}.{chinese_name}.{season}E01.JPN.{subtitle}.{resolution}.mp4')"
   ]
  },
  {
   "cell_type": "code",
   "execution_count": null,
   "metadata": {},
   "outputs": [],
   "source": []
  }
 ],
 "metadata": {
  "kernelspec": {
   "display_name": "base",
   "language": "python",
   "name": "python3"
  },
  "language_info": {
   "codemirror_mode": {
    "name": "ipython",
    "version": 3
   },
   "file_extension": ".py",
   "mimetype": "text/x-python",
   "name": "python",
   "nbconvert_exporter": "python",
   "pygments_lexer": "ipython3",
   "version": "3.10.9"
  }
 },
 "nbformat": 4,
 "nbformat_minor": 2
}
