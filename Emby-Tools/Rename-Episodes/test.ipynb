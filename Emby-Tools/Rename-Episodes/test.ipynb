{
 "cells": [
  {
   "cell_type": "code",
   "execution_count": null,
   "metadata": {},
   "outputs": [],
   "source": [
    "from mutagen.mp4 import MP4\n",
    "from pathlib import Path\n",
    "import re"
   ]
  },
  {
   "cell_type": "code",
   "execution_count": null,
   "metadata": {},
   "outputs": [],
   "source": [
    "input_path = Path.cwd() / 'input'"
   ]
  },
  {
   "cell_type": "code",
   "execution_count": null,
   "metadata": {},
   "outputs": [],
   "source": [
    "input_folder = 'Watch - TV Shows (Anime)'\n",
    "input_path = Path('d:/') / input_folder # f in asus, d in lenovo"
   ]
  },
  {
   "cell_type": "code",
   "execution_count": null,
   "metadata": {},
   "outputs": [],
   "source": [
    "folder_list = [x for x in input_path.iterdir() if x.is_dir()]"
   ]
  },
  {
   "cell_type": "code",
   "execution_count": null,
   "metadata": {},
   "outputs": [],
   "source": [
    "def update_title(file_path):\n",
    "    file = MP4(file_path)\n",
    "    title = ''.join(file['©nam'])\n",
    "    \n",
    "    if not title:\n",
    "        file['©nam'] = file_path.stem\n",
    "        file['©cmt'] = file_path.stem\n",
    "        file.save()"
   ]
  },
  {
   "cell_type": "code",
   "execution_count": null,
   "metadata": {},
   "outputs": [],
   "source": [
    "def get_season(folder_path):\n",
    "    pattern = r'\\[S\\d+\\]'\n",
    "    result = re.search(pattern, folder_path.name)\n",
    "    if result:\n",
    "        text = result.group()\n",
    "        search = re.search(r'\\d+', text)\n",
    "        season = search.group().zfill(2)\n",
    "    else:\n",
    "        season = '1'.zfill(2)\n",
    "    return season"
   ]
  },
  {
   "cell_type": "code",
   "execution_count": null,
   "metadata": {},
   "outputs": [],
   "source": [
    "def get_episode(file_path):\n",
    "    patterns = [\n",
    "        r'\\[E\\d+\\]',\n",
    "        r'\\[\\d+(v\\d)?\\]',\n",
    "        r'\\[\\d+\\s?END\\]',\n",
    "        r'\\[\\d+_\\d+\\]',\n",
    "        r'-\\s?\\d+',\n",
    "        r'\\.\\d+',\n",
    "        r'第\\d+话',\n",
    "        r'第\\d+話'\n",
    "    ]\n",
    "    \n",
    "    for pattern in patterns:\n",
    "        result = re.search(pattern, file_path.stem)\n",
    "        if result:\n",
    "            text = result.group()\n",
    "            search = re.search(r'\\d+', text)\n",
    "            episode = search.group()\n",
    "            return episode"
   ]
  },
  {
   "cell_type": "code",
   "execution_count": null,
   "metadata": {},
   "outputs": [],
   "source": [
    "def get_episodes(file_list):\n",
    "    episodes = []\n",
    "    for file_path in file_list:\n",
    "        keywords = ['.5', 'OVA']\n",
    "        for keyword in keywords:\n",
    "            if keyword in file_path.stem:\n",
    "                episode = None\n",
    "                break\n",
    "        else:\n",
    "            episode = get_episode(file_path)\n",
    "        episodes.append(episode)\n",
    "    \n",
    "    num_digit = max([len(x) for x in episodes if x])\n",
    "    episodes = [x.zfill(num_digit) if x else x for x in episodes]\n",
    "    return episodes"
   ]
  },
  {
   "cell_type": "code",
   "execution_count": null,
   "metadata": {},
   "outputs": [],
   "source": [
    "for folder_path in folder_list:\n",
    "    file_list = list(folder_path.glob('*.mp4'))\n",
    "    for file_path in file_list:\n",
    "        update_title(file_path)\n",
    "    \n",
    "    pattern = r'\\[(.*?)\\]'\n",
    "    result = re.findall(pattern, folder_path.name)\n",
    "    \n",
    "    english = result[0]\n",
    "    chinese = result[1]\n",
    "    subtitle = result[-3]\n",
    "    resolution = result[-2]\n",
    "\n",
    "    print(folder_path.name)\n",
    "    season = get_season(folder_path)\n",
    "    episodes = get_episodes(file_list)\n",
    "    for episode in episodes:\n",
    "        if episode:\n",
    "            name = f'{english}.{chinese}.S{season}E{episode}.{subtitle}.{resolution}.mp4'\n",
    "            print(name)\n",
    "    print()"
   ]
  },
  {
   "cell_type": "code",
   "execution_count": null,
   "metadata": {},
   "outputs": [],
   "source": []
  }
 ],
 "metadata": {
  "kernelspec": {
   "display_name": "base",
   "language": "python",
   "name": "python3"
  },
  "language_info": {
   "codemirror_mode": {
    "name": "ipython",
    "version": 3
   },
   "file_extension": ".py",
   "mimetype": "text/x-python",
   "name": "python",
   "nbconvert_exporter": "python",
   "pygments_lexer": "ipython3",
   "version": "3.10.9"
  }
 },
 "nbformat": 4,
 "nbformat_minor": 2
}
