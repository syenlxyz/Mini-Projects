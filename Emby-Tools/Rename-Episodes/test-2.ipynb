{
 "cells": [
  {
   "cell_type": "code",
   "execution_count": 8,
   "metadata": {},
   "outputs": [],
   "source": [
    "from mutagen.mp4 import MP4\n",
    "from pathlib import Path\n",
    "import re"
   ]
  },
  {
   "cell_type": "code",
   "execution_count": 9,
   "metadata": {},
   "outputs": [],
   "source": [
    "input_path = Path.cwd() / 'input'"
   ]
  },
  {
   "cell_type": "code",
   "execution_count": 10,
   "metadata": {},
   "outputs": [],
   "source": [
    "input_folder = 'Watch - TV Shows (Anime)'\n",
    "input_path = Path('f:/') / input_folder"
   ]
  },
  {
   "cell_type": "code",
   "execution_count": 11,
   "metadata": {},
   "outputs": [],
   "source": [
    "folder_list = [path for path in input_path.iterdir() if path.is_dir()]"
   ]
  },
  {
   "cell_type": "code",
   "execution_count": 12,
   "metadata": {},
   "outputs": [],
   "source": [
    "def update_title(file_path):\n",
    "    file = MP4(file_path)\n",
    "    title = ''.join(file['©nam'])\n",
    "    \n",
    "    if not title:\n",
    "        file['©nam'] = file_path.stem\n",
    "        file['©cmt'] = file_path.stem\n",
    "        file.save()"
   ]
  },
  {
   "cell_type": "code",
   "execution_count": 13,
   "metadata": {},
   "outputs": [],
   "source": [
    "def get_episode(file_path):\n",
    "    patterns = [\n",
    "        r'\\[E\\d+\\]',\n",
    "        r'\\[\\d+(\\.\\d)?\\]',\n",
    "        r'\\[\\d+(\\.\\d)?v\\d\\]',\n",
    "        r'\\[\\d+\\s?END\\]',\n",
    "        r'\\[\\d+_\\d+\\]',\n",
    "        r'-\\s?\\d+',\n",
    "        r'\\.\\d+',\n",
    "        r'第\\d+话',\n",
    "        r'第\\d+話'\n",
    "    ]\n",
    "    \n",
    "    for pattern in patterns:\n",
    "        result = re.search(pattern, file_path.stem)\n",
    "        if result:\n",
    "            text = result.group()\n",
    "            search = re.search(r'\\d+(\\.\\d)?', text)\n",
    "            episode = search.group()\n",
    "            return episode"
   ]
  },
  {
   "cell_type": "code",
   "execution_count": 14,
   "metadata": {},
   "outputs": [],
   "source": [
    "for folder_path in folder_list:\n",
    "    file_list = list(folder_path.glob('*.mp4'))\n",
    "    \n",
    "    episodes = []\n",
    "    for file_path in file_list:\n",
    "        update_title(file_path)\n",
    "        episode = get_episode(file_path)\n",
    "        if not episode:\n",
    "            print(file_path.stem)\n",
    "        episodes.append(episode)\n",
    "    \n",
    "    num_digit = max(map(lambda x: len(x.split('.')[0]), episodes))\n",
    "    episodes = [x.zfill(num_digit) for x in episodes]"
   ]
  },
  {
   "cell_type": "code",
   "execution_count": null,
   "metadata": {},
   "outputs": [],
   "source": []
  },
  {
   "cell_type": "code",
   "execution_count": null,
   "metadata": {},
   "outputs": [],
   "source": []
  }
 ],
 "metadata": {
  "kernelspec": {
   "display_name": "base",
   "language": "python",
   "name": "python3"
  },
  "language_info": {
   "codemirror_mode": {
    "name": "ipython",
    "version": 3
   },
   "file_extension": ".py",
   "mimetype": "text/x-python",
   "name": "python",
   "nbconvert_exporter": "python",
   "pygments_lexer": "ipython3",
   "version": "3.9.16"
  }
 },
 "nbformat": 4,
 "nbformat_minor": 2
}
