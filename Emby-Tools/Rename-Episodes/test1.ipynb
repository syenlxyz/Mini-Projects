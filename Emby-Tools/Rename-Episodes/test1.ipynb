{
 "cells": [
  {
   "cell_type": "code",
   "execution_count": 40,
   "metadata": {},
   "outputs": [],
   "source": [
    "from mutagen.mp4 import MP4\n",
    "from pathlib import Path\n",
    "import re"
   ]
  },
  {
   "cell_type": "code",
   "execution_count": 41,
   "metadata": {},
   "outputs": [],
   "source": [
    "input_path = Path.cwd() / 'input'"
   ]
  },
  {
   "cell_type": "code",
   "execution_count": 42,
   "metadata": {},
   "outputs": [],
   "source": [
    "folder_list = [path for path in input_path.iterdir() if path.is_dir()]"
   ]
  },
  {
   "cell_type": "code",
   "execution_count": 43,
   "metadata": {},
   "outputs": [],
   "source": [
    "def run():\n",
    "    for folder_path in folder_list:\n",
    "        file_list = list(folder_path.glob('*.mp4'))\n",
    "        for file_path in file_list:\n",
    "            update_title(file_path)\n",
    "        \n",
    "        pattern = r'\\[(.*?)\\]'\n",
    "        result = re.findall(pattern, folder_path.name)\n",
    "        english = result[0]\n",
    "        chinese = result[1]\n",
    "        subtitle = result[-3]\n",
    "        resolution = result[-2]\n",
    "        \n",
    "        season = get_season(folder_path)\n",
    "        episodes = get_episodes(file_list)\n",
    "        \n",
    "        num_digit = len(episodes[0])\n",
    "        season = season.zfill(num_digit)\n",
    "        \n",
    "        for episode in episodes:\n",
    "            if episode:\n",
    "                target = f'{english}.{chinese}.S{season}E{episode}.{subtitle}.{resolution}.mp4'\n",
    "                file_path.rename(target)"
   ]
  },
  {
   "cell_type": "code",
   "execution_count": 44,
   "metadata": {},
   "outputs": [],
   "source": [
    "def update_title(file_path):\n",
    "    file = MP4(file_path)\n",
    "    title = ''.join(file['©nam'])\n",
    "    \n",
    "    if not title:\n",
    "        file['©nam'] = file_path.stem\n",
    "        file['©cmt'] = file_path.stem\n",
    "        file.save()"
   ]
  },
  {
   "cell_type": "code",
   "execution_count": 45,
   "metadata": {},
   "outputs": [],
   "source": [
    "def get_season(folder_path):\n",
    "    pattern = r'\\[S\\d+\\]'\n",
    "    result = re.search(pattern, folder_path.name)\n",
    "    if result:\n",
    "        text = result.group()\n",
    "        search = re.search(r'\\d+', text)\n",
    "        season = search.group()\n",
    "    else:\n",
    "        season = '1'\n",
    "    return season"
   ]
  },
  {
   "cell_type": "code",
   "execution_count": 46,
   "metadata": {},
   "outputs": [],
   "source": [
    "def get_episodes(file_list):\n",
    "    episodes = []\n",
    "    for file_path in file_list:\n",
    "        keywords = ['.5', 'OVA']\n",
    "        for keyword in keywords:\n",
    "            if keyword in file_path.stem:\n",
    "                episode = None\n",
    "                break\n",
    "        else:\n",
    "            episode = get_episode(file_path)\n",
    "        episodes.append(episode)\n",
    "    \n",
    "    start = min([int(episode) for episode in episodes if episode])\n",
    "    if start > 1:\n",
    "        episodes = [ifelse(episode, str(int(episode) - start + 1), episode) for episode in episodes]\n",
    "    \n",
    "    num_digit = max([len(episode) for episode in episodes if episode])\n",
    "    episodes = [ifelse(episode, episode.zfill(num_digit), episode) for episode in episodes]\n",
    "    return episodes"
   ]
  },
  {
   "cell_type": "code",
   "execution_count": 47,
   "metadata": {},
   "outputs": [],
   "source": [
    "def get_episode(file_path):\n",
    "    patterns = [\n",
    "        r'\\[E\\d+\\]',\n",
    "        r'\\[\\d+(v\\d)?\\]',\n",
    "        r'\\[\\d+\\s?END\\]',\n",
    "        r'\\[\\d+_\\d+\\]',\n",
    "        r'-\\s?\\d+',\n",
    "        r'\\.\\d+',\n",
    "        r'第\\d+话',\n",
    "        r'第\\d+話'\n",
    "    ]\n",
    "    \n",
    "    for pattern in patterns:\n",
    "        result = re.search(pattern, file_path.stem)\n",
    "        if result:\n",
    "            text = result.group()\n",
    "            search = re.search(r'\\d+', text)\n",
    "            episode = search.group()\n",
    "            return episode"
   ]
  },
  {
   "cell_type": "code",
   "execution_count": 48,
   "metadata": {},
   "outputs": [],
   "source": [
    "def ifelse(test_expression, x, y):\n",
    "    if test_expression:\n",
    "        return x\n",
    "    else:\n",
    "        return y"
   ]
  },
  {
   "cell_type": "code",
   "execution_count": 49,
   "metadata": {},
   "outputs": [
    {
     "name": "stdout",
     "output_type": "stream",
     "text": [
      "[Beast_Tamer][被勇者队伍开除的驭兽使][01-13][CHS][1080P][MP4]\n",
      "\n",
      "[Cautious_Hero][这个勇者明明超强却过分慎重][01-12][CHS][1080P][MP4]\n",
      "\n"
     ]
    }
   ],
   "source": [
    "if __name__ == '__main__':\n",
    "    run()"
   ]
  }
 ],
 "metadata": {
  "kernelspec": {
   "display_name": "base",
   "language": "python",
   "name": "python3"
  },
  "language_info": {
   "codemirror_mode": {
    "name": "ipython",
    "version": 3
   },
   "file_extension": ".py",
   "mimetype": "text/x-python",
   "name": "python",
   "nbconvert_exporter": "python",
   "pygments_lexer": "ipython3",
   "version": "3.9.16"
  }
 },
 "nbformat": 4,
 "nbformat_minor": 2
}
